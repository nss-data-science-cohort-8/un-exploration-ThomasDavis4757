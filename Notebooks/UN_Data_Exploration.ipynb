{
 "cells": [
  {
   "cell_type": "markdown",
   "id": "a3e9a845",
   "metadata": {},
   "source": [
    "## UN Data Exploration"
   ]
  },
  {
   "cell_type": "markdown",
   "id": "cc8dcca1",
   "metadata": {},
   "source": [
    "## #3"
   ]
  },
  {
   "cell_type": "code",
   "execution_count": 1,
   "id": "d8506a03",
   "metadata": {},
   "outputs": [],
   "source": [
    "import pandas as pd\n",
    "import numpy as np\n",
    "import matplotlib.pyplot as plt\n",
    "import seaborn as sns"
   ]
  },
  {
   "cell_type": "markdown",
   "id": "218f0e0f",
   "metadata": {},
   "source": [
    "## #4"
   ]
  },
  {
   "cell_type": "code",
   "execution_count": 2,
   "id": "f0cb53e9",
   "metadata": {},
   "outputs": [],
   "source": [
    "gdp_df = pd.read_csv(\"../data/gpd_per_capita.csv\")"
   ]
  },
  {
   "cell_type": "code",
   "execution_count": 3,
   "id": "e4608056",
   "metadata": {},
   "outputs": [
    {
     "name": "stdout",
     "output_type": "stream",
     "text": [
      "     Country or Area  Year        Value  Value Footnotes\n",
      "0        Afghanistan  2021  1517.016266              NaN\n",
      "1        Afghanistan  2020  1968.341002              NaN\n",
      "2        Afghanistan  2019  2079.921861              NaN\n",
      "3        Afghanistan  2018  2060.698973              NaN\n",
      "4        Afghanistan  2017  2096.093111              NaN\n",
      "...              ...   ...          ...              ...\n",
      "7657        Zimbabwe  1994  2670.106615              NaN\n",
      "7658        Zimbabwe  1993  2458.783255              NaN\n",
      "7659        Zimbabwe  1992  2468.278257              NaN\n",
      "7660        Zimbabwe  1991  2781.787843              NaN\n",
      "7661        Zimbabwe  1990  2704.757299              NaN\n",
      "\n",
      "[7662 rows x 4 columns]\n"
     ]
    }
   ],
   "source": [
    "print(gdp_df)"
   ]
  },
  {
   "cell_type": "code",
   "execution_count": 4,
   "id": "13dd57b1",
   "metadata": {},
   "outputs": [
    {
     "data": {
      "text/html": [
       "<div>\n",
       "<style scoped>\n",
       "    .dataframe tbody tr th:only-of-type {\n",
       "        vertical-align: middle;\n",
       "    }\n",
       "\n",
       "    .dataframe tbody tr th {\n",
       "        vertical-align: top;\n",
       "    }\n",
       "\n",
       "    .dataframe thead th {\n",
       "        text-align: right;\n",
       "    }\n",
       "</style>\n",
       "<table border=\"1\" class=\"dataframe\">\n",
       "  <thead>\n",
       "    <tr style=\"text-align: right;\">\n",
       "      <th></th>\n",
       "      <th>Country or Area</th>\n",
       "      <th>Year</th>\n",
       "      <th>Value</th>\n",
       "      <th>Value Footnotes</th>\n",
       "    </tr>\n",
       "  </thead>\n",
       "  <tbody>\n",
       "    <tr>\n",
       "      <th>0</th>\n",
       "      <td>Afghanistan</td>\n",
       "      <td>2021</td>\n",
       "      <td>1517.016266</td>\n",
       "      <td>NaN</td>\n",
       "    </tr>\n",
       "    <tr>\n",
       "      <th>1</th>\n",
       "      <td>Afghanistan</td>\n",
       "      <td>2020</td>\n",
       "      <td>1968.341002</td>\n",
       "      <td>NaN</td>\n",
       "    </tr>\n",
       "    <tr>\n",
       "      <th>2</th>\n",
       "      <td>Afghanistan</td>\n",
       "      <td>2019</td>\n",
       "      <td>2079.921861</td>\n",
       "      <td>NaN</td>\n",
       "    </tr>\n",
       "    <tr>\n",
       "      <th>3</th>\n",
       "      <td>Afghanistan</td>\n",
       "      <td>2018</td>\n",
       "      <td>2060.698973</td>\n",
       "      <td>NaN</td>\n",
       "    </tr>\n",
       "    <tr>\n",
       "      <th>4</th>\n",
       "      <td>Afghanistan</td>\n",
       "      <td>2017</td>\n",
       "      <td>2096.093111</td>\n",
       "      <td>NaN</td>\n",
       "    </tr>\n",
       "    <tr>\n",
       "      <th>5</th>\n",
       "      <td>Afghanistan</td>\n",
       "      <td>2016</td>\n",
       "      <td>2101.422187</td>\n",
       "      <td>NaN</td>\n",
       "    </tr>\n",
       "    <tr>\n",
       "      <th>6</th>\n",
       "      <td>Afghanistan</td>\n",
       "      <td>2015</td>\n",
       "      <td>2108.714173</td>\n",
       "      <td>NaN</td>\n",
       "    </tr>\n",
       "    <tr>\n",
       "      <th>7</th>\n",
       "      <td>Afghanistan</td>\n",
       "      <td>2014</td>\n",
       "      <td>2144.449634</td>\n",
       "      <td>NaN</td>\n",
       "    </tr>\n",
       "    <tr>\n",
       "      <th>8</th>\n",
       "      <td>Afghanistan</td>\n",
       "      <td>2013</td>\n",
       "      <td>2165.340915</td>\n",
       "      <td>NaN</td>\n",
       "    </tr>\n",
       "    <tr>\n",
       "      <th>9</th>\n",
       "      <td>Afghanistan</td>\n",
       "      <td>2012</td>\n",
       "      <td>2122.830759</td>\n",
       "      <td>NaN</td>\n",
       "    </tr>\n",
       "  </tbody>\n",
       "</table>\n",
       "</div>"
      ],
      "text/plain": [
       "  Country or Area  Year        Value  Value Footnotes\n",
       "0     Afghanistan  2021  1517.016266              NaN\n",
       "1     Afghanistan  2020  1968.341002              NaN\n",
       "2     Afghanistan  2019  2079.921861              NaN\n",
       "3     Afghanistan  2018  2060.698973              NaN\n",
       "4     Afghanistan  2017  2096.093111              NaN\n",
       "5     Afghanistan  2016  2101.422187              NaN\n",
       "6     Afghanistan  2015  2108.714173              NaN\n",
       "7     Afghanistan  2014  2144.449634              NaN\n",
       "8     Afghanistan  2013  2165.340915              NaN\n",
       "9     Afghanistan  2012  2122.830759              NaN"
      ]
     },
     "execution_count": 4,
     "metadata": {},
     "output_type": "execute_result"
    }
   ],
   "source": [
    "gdp_df.head(10)\n"
   ]
  },
  {
   "cell_type": "code",
   "execution_count": 6,
   "id": "34cb7047",
   "metadata": {
    "scrolled": true
   },
   "outputs": [
    {
     "data": {
      "text/html": [
       "<div>\n",
       "<style scoped>\n",
       "    .dataframe tbody tr th:only-of-type {\n",
       "        vertical-align: middle;\n",
       "    }\n",
       "\n",
       "    .dataframe tbody tr th {\n",
       "        vertical-align: top;\n",
       "    }\n",
       "\n",
       "    .dataframe thead th {\n",
       "        text-align: right;\n",
       "    }\n",
       "</style>\n",
       "<table border=\"1\" class=\"dataframe\">\n",
       "  <thead>\n",
       "    <tr style=\"text-align: right;\">\n",
       "      <th></th>\n",
       "      <th>Country or Area</th>\n",
       "      <th>Year</th>\n",
       "      <th>Value</th>\n",
       "      <th>Value Footnotes</th>\n",
       "    </tr>\n",
       "  </thead>\n",
       "  <tbody>\n",
       "    <tr>\n",
       "      <th>7652</th>\n",
       "      <td>Zimbabwe</td>\n",
       "      <td>1999</td>\n",
       "      <td>2866.032886</td>\n",
       "      <td>NaN</td>\n",
       "    </tr>\n",
       "    <tr>\n",
       "      <th>7653</th>\n",
       "      <td>Zimbabwe</td>\n",
       "      <td>1998</td>\n",
       "      <td>2931.725144</td>\n",
       "      <td>NaN</td>\n",
       "    </tr>\n",
       "    <tr>\n",
       "      <th>7654</th>\n",
       "      <td>Zimbabwe</td>\n",
       "      <td>1997</td>\n",
       "      <td>2896.147308</td>\n",
       "      <td>NaN</td>\n",
       "    </tr>\n",
       "    <tr>\n",
       "      <th>7655</th>\n",
       "      <td>Zimbabwe</td>\n",
       "      <td>1996</td>\n",
       "      <td>2867.026043</td>\n",
       "      <td>NaN</td>\n",
       "    </tr>\n",
       "    <tr>\n",
       "      <th>7656</th>\n",
       "      <td>Zimbabwe</td>\n",
       "      <td>1995</td>\n",
       "      <td>2641.378271</td>\n",
       "      <td>NaN</td>\n",
       "    </tr>\n",
       "    <tr>\n",
       "      <th>7657</th>\n",
       "      <td>Zimbabwe</td>\n",
       "      <td>1994</td>\n",
       "      <td>2670.106615</td>\n",
       "      <td>NaN</td>\n",
       "    </tr>\n",
       "    <tr>\n",
       "      <th>7658</th>\n",
       "      <td>Zimbabwe</td>\n",
       "      <td>1993</td>\n",
       "      <td>2458.783255</td>\n",
       "      <td>NaN</td>\n",
       "    </tr>\n",
       "    <tr>\n",
       "      <th>7659</th>\n",
       "      <td>Zimbabwe</td>\n",
       "      <td>1992</td>\n",
       "      <td>2468.278257</td>\n",
       "      <td>NaN</td>\n",
       "    </tr>\n",
       "    <tr>\n",
       "      <th>7660</th>\n",
       "      <td>Zimbabwe</td>\n",
       "      <td>1991</td>\n",
       "      <td>2781.787843</td>\n",
       "      <td>NaN</td>\n",
       "    </tr>\n",
       "    <tr>\n",
       "      <th>7661</th>\n",
       "      <td>Zimbabwe</td>\n",
       "      <td>1990</td>\n",
       "      <td>2704.757299</td>\n",
       "      <td>NaN</td>\n",
       "    </tr>\n",
       "  </tbody>\n",
       "</table>\n",
       "</div>"
      ],
      "text/plain": [
       "     Country or Area  Year        Value  Value Footnotes\n",
       "7652        Zimbabwe  1999  2866.032886              NaN\n",
       "7653        Zimbabwe  1998  2931.725144              NaN\n",
       "7654        Zimbabwe  1997  2896.147308              NaN\n",
       "7655        Zimbabwe  1996  2867.026043              NaN\n",
       "7656        Zimbabwe  1995  2641.378271              NaN\n",
       "7657        Zimbabwe  1994  2670.106615              NaN\n",
       "7658        Zimbabwe  1993  2458.783255              NaN\n",
       "7659        Zimbabwe  1992  2468.278257              NaN\n",
       "7660        Zimbabwe  1991  2781.787843              NaN\n",
       "7661        Zimbabwe  1990  2704.757299              NaN"
      ]
     },
     "execution_count": 6,
     "metadata": {},
     "output_type": "execute_result"
    }
   ],
   "source": [
    "gdp_df.tail(10)\n"
   ]
  },
  {
   "cell_type": "markdown",
   "id": "9b08e7fe",
   "metadata": {},
   "source": [
    "## #5"
   ]
  },
  {
   "cell_type": "code",
   "execution_count": 7,
   "id": "8ae39128",
   "metadata": {},
   "outputs": [],
   "source": [
    "gdp_df = gdp_df.drop(\"Value Footnotes\", axis = 1)"
   ]
  },
  {
   "cell_type": "code",
   "execution_count": 8,
   "id": "c19ca45f",
   "metadata": {},
   "outputs": [],
   "source": [
    "gdp_df = gdp_df.rename(columns = {\"Country or Area\": \"Country\", \"Year\":\"Year\", \"Value\" : \"GDP_Per_Capita\"})"
   ]
  },
  {
   "cell_type": "code",
   "execution_count": 9,
   "id": "7e021f03",
   "metadata": {
    "scrolled": true
   },
   "outputs": [
    {
     "data": {
      "text/html": [
       "<div>\n",
       "<style scoped>\n",
       "    .dataframe tbody tr th:only-of-type {\n",
       "        vertical-align: middle;\n",
       "    }\n",
       "\n",
       "    .dataframe tbody tr th {\n",
       "        vertical-align: top;\n",
       "    }\n",
       "\n",
       "    .dataframe thead th {\n",
       "        text-align: right;\n",
       "    }\n",
       "</style>\n",
       "<table border=\"1\" class=\"dataframe\">\n",
       "  <thead>\n",
       "    <tr style=\"text-align: right;\">\n",
       "      <th></th>\n",
       "      <th>Country</th>\n",
       "      <th>Year</th>\n",
       "      <th>GDP_Per_Capita</th>\n",
       "    </tr>\n",
       "  </thead>\n",
       "  <tbody>\n",
       "    <tr>\n",
       "      <th>0</th>\n",
       "      <td>Afghanistan</td>\n",
       "      <td>2021</td>\n",
       "      <td>1517.016266</td>\n",
       "    </tr>\n",
       "    <tr>\n",
       "      <th>1</th>\n",
       "      <td>Afghanistan</td>\n",
       "      <td>2020</td>\n",
       "      <td>1968.341002</td>\n",
       "    </tr>\n",
       "    <tr>\n",
       "      <th>2</th>\n",
       "      <td>Afghanistan</td>\n",
       "      <td>2019</td>\n",
       "      <td>2079.921861</td>\n",
       "    </tr>\n",
       "    <tr>\n",
       "      <th>3</th>\n",
       "      <td>Afghanistan</td>\n",
       "      <td>2018</td>\n",
       "      <td>2060.698973</td>\n",
       "    </tr>\n",
       "    <tr>\n",
       "      <th>4</th>\n",
       "      <td>Afghanistan</td>\n",
       "      <td>2017</td>\n",
       "      <td>2096.093111</td>\n",
       "    </tr>\n",
       "    <tr>\n",
       "      <th>...</th>\n",
       "      <td>...</td>\n",
       "      <td>...</td>\n",
       "      <td>...</td>\n",
       "    </tr>\n",
       "    <tr>\n",
       "      <th>7657</th>\n",
       "      <td>Zimbabwe</td>\n",
       "      <td>1994</td>\n",
       "      <td>2670.106615</td>\n",
       "    </tr>\n",
       "    <tr>\n",
       "      <th>7658</th>\n",
       "      <td>Zimbabwe</td>\n",
       "      <td>1993</td>\n",
       "      <td>2458.783255</td>\n",
       "    </tr>\n",
       "    <tr>\n",
       "      <th>7659</th>\n",
       "      <td>Zimbabwe</td>\n",
       "      <td>1992</td>\n",
       "      <td>2468.278257</td>\n",
       "    </tr>\n",
       "    <tr>\n",
       "      <th>7660</th>\n",
       "      <td>Zimbabwe</td>\n",
       "      <td>1991</td>\n",
       "      <td>2781.787843</td>\n",
       "    </tr>\n",
       "    <tr>\n",
       "      <th>7661</th>\n",
       "      <td>Zimbabwe</td>\n",
       "      <td>1990</td>\n",
       "      <td>2704.757299</td>\n",
       "    </tr>\n",
       "  </tbody>\n",
       "</table>\n",
       "<p>7662 rows × 3 columns</p>\n",
       "</div>"
      ],
      "text/plain": [
       "          Country  Year  GDP_Per_Capita\n",
       "0     Afghanistan  2021     1517.016266\n",
       "1     Afghanistan  2020     1968.341002\n",
       "2     Afghanistan  2019     2079.921861\n",
       "3     Afghanistan  2018     2060.698973\n",
       "4     Afghanistan  2017     2096.093111\n",
       "...           ...   ...             ...\n",
       "7657     Zimbabwe  1994     2670.106615\n",
       "7658     Zimbabwe  1993     2458.783255\n",
       "7659     Zimbabwe  1992     2468.278257\n",
       "7660     Zimbabwe  1991     2781.787843\n",
       "7661     Zimbabwe  1990     2704.757299\n",
       "\n",
       "[7662 rows x 3 columns]"
      ]
     },
     "execution_count": 9,
     "metadata": {},
     "output_type": "execute_result"
    }
   ],
   "source": [
    "gdp_df"
   ]
  },
  {
   "cell_type": "markdown",
   "id": "70d43f02",
   "metadata": {},
   "source": [
    "## #6"
   ]
  },
  {
   "cell_type": "code",
   "execution_count": 10,
   "id": "ae5c77b8",
   "metadata": {},
   "outputs": [
    {
     "data": {
      "text/plain": [
       "(7662, 3)"
      ]
     },
     "execution_count": 10,
     "metadata": {},
     "output_type": "execute_result"
    }
   ],
   "source": [
    "gdp_df.shape"
   ]
  },
  {
   "cell_type": "code",
   "execution_count": 11,
   "id": "d0af3475",
   "metadata": {
    "scrolled": true
   },
   "outputs": [
    {
     "data": {
      "text/plain": [
       "Country            object\n",
       "Year                int64\n",
       "GDP_Per_Capita    float64\n",
       "dtype: object"
      ]
     },
     "execution_count": 11,
     "metadata": {},
     "output_type": "execute_result"
    }
   ],
   "source": [
    "gdp_df.dtypes"
   ]
  },
  {
   "cell_type": "markdown",
   "id": "ca72fb7b",
   "metadata": {},
   "source": [
    "### There are 7662 rows and 3 columns. The data types are expected."
   ]
  },
  {
   "cell_type": "markdown",
   "id": "1b8a79e6",
   "metadata": {},
   "source": [
    "## #7"
   ]
  },
  {
   "cell_type": "code",
   "execution_count": 12,
   "id": "07897ea4",
   "metadata": {},
   "outputs": [
    {
     "data": {
      "text/plain": [
       "7662"
      ]
     },
     "execution_count": 12,
     "metadata": {},
     "output_type": "execute_result"
    }
   ],
   "source": [
    "gdp_df[\"Year\"].count()"
   ]
  },
  {
   "cell_type": "code",
   "execution_count": 13,
   "id": "2b404f41",
   "metadata": {},
   "outputs": [
    {
     "name": "stdout",
     "output_type": "stream",
     "text": [
      "Year\n",
      "2013    242\n",
      "2016    242\n",
      "2014    242\n",
      "2015    242\n",
      "2020    242\n",
      "2017    242\n",
      "2018    242\n",
      "2019    242\n",
      "2021    241\n",
      "2012    240\n",
      "2011    240\n",
      "2010    239\n",
      "2009    239\n",
      "2008    238\n",
      "2007    237\n",
      "2006    237\n",
      "2004    236\n",
      "2005    236\n",
      "2003    235\n",
      "2002    235\n",
      "2001    234\n",
      "2000    233\n",
      "2022    232\n",
      "1999    227\n",
      "1998    226\n",
      "1997    226\n",
      "1996    223\n",
      "1995    223\n",
      "1994    213\n",
      "1993    211\n",
      "1992    210\n",
      "1991    208\n",
      "1990    207\n",
      "Name: count, dtype: int64\n"
     ]
    }
   ],
   "source": [
    "Years = gdp_df[\"Year\"].value_counts()\n",
    "print(Years)"
   ]
  },
  {
   "cell_type": "code",
   "execution_count": 14,
   "id": "4923f2f1",
   "metadata": {},
   "outputs": [
    {
     "name": "stdout",
     "output_type": "stream",
     "text": [
      "Year\n",
      "2013    242\n",
      "2017    242\n",
      "2019    242\n",
      "2018    242\n",
      "2016    242\n",
      "2020    242\n",
      "2015    242\n",
      "2014    242\n",
      "2021    241\n",
      "2012    240\n",
      "2011    240\n",
      "2010    239\n",
      "2009    239\n",
      "2008    238\n",
      "2007    237\n",
      "2006    237\n",
      "2005    236\n",
      "2004    236\n",
      "2003    235\n",
      "2002    235\n",
      "2001    234\n",
      "2000    233\n",
      "2022    232\n",
      "1999    227\n",
      "1998    226\n",
      "1997    226\n",
      "1996    223\n",
      "1995    223\n",
      "1994    213\n",
      "1993    211\n",
      "1992    210\n",
      "1991    208\n",
      "1990    207\n",
      "Name: count, dtype: int64\n"
     ]
    }
   ],
   "source": [
    "Years = Years.sort_values(axis = 0, ascending = False)\n",
    "print(Years)"
   ]
  },
  {
   "cell_type": "markdown",
   "id": "5a8db083",
   "metadata": {},
   "source": [
    "### Years from 1990 - 2022 are included, and it seems to pretty consistently go up throughout the years excluding 2021 and 2022, so some countries didn't give their data for those two previous years."
   ]
  },
  {
   "cell_type": "markdown",
   "id": "de9e7ba4",
   "metadata": {},
   "source": [
    "## #8"
   ]
  },
  {
   "cell_type": "code",
   "execution_count": 15,
   "id": "eb12fc46",
   "metadata": {},
   "outputs": [
    {
     "data": {
      "text/plain": [
       "Country\n",
       "Least developed countries: UN classification    33\n",
       "Middle East & North Africa                      33\n",
       "Middle East & North Africa (IDA & IBRD)         33\n",
       "Middle income                                   33\n",
       "Mongolia                                        33\n",
       "                                                ..\n",
       "Kosovo                                          15\n",
       "Sint Maarten (Dutch part)                       14\n",
       "Turks and Caicos Islands                        12\n",
       "Somalia                                         10\n",
       "Djibouti                                        10\n",
       "Name: count, Length: 242, dtype: int64"
      ]
     },
     "execution_count": 15,
     "metadata": {},
     "output_type": "execute_result"
    }
   ],
   "source": [
    "gdp_df[\"Country\"].value_counts()"
   ]
  },
  {
   "cell_type": "markdown",
   "id": "8f873442",
   "metadata": {},
   "source": [
    "### There are 242 different countries represented in the dataset, which seems to show that it is not only countries represented in the listing. "
   ]
  },
  {
   "cell_type": "markdown",
   "id": "0fb17c3e",
   "metadata": {},
   "source": [
    "### Those countries at the bottom might have less obvservations because they are newly recognized countries potentially."
   ]
  },
  {
   "cell_type": "markdown",
   "id": "297efa2a",
   "metadata": {},
   "source": [
    "## #9"
   ]
  },
  {
   "cell_type": "code",
   "execution_count": 19,
   "id": "150b5fdc",
   "metadata": {},
   "outputs": [],
   "source": [
    "gdp_2021 = gdp_df[gdp_df[\"Year\"] == 2021]"
   ]
  },
  {
   "cell_type": "code",
   "execution_count": 20,
   "id": "7ed184c5",
   "metadata": {},
   "outputs": [
    {
     "name": "stdout",
     "output_type": "stream",
     "text": [
      "                          Country  Year  GDP_Per_Capita\n",
      "0                     Afghanistan  2021     1517.016266\n",
      "21    Africa Eastern and Southern  2021     3519.174840\n",
      "54     Africa Western and Central  2021     4014.607965\n",
      "87                        Albania  2021    14595.944386\n",
      "120                       Algeria  2021    11029.138782\n",
      "...                           ...   ...             ...\n",
      "7502                     Viet Nam  2021    10628.219166\n",
      "7535           West Bank and Gaza  2021     5641.044400\n",
      "7564                        World  2021    17055.357429\n",
      "7597                       Zambia  2021     3236.788981\n",
      "7630                     Zimbabwe  2021     2115.144555\n",
      "\n",
      "[241 rows x 3 columns]\n"
     ]
    }
   ],
   "source": [
    "print(gdp_2021)"
   ]
  },
  {
   "cell_type": "markdown",
   "id": "6b302b4d",
   "metadata": {},
   "source": [
    "## #10"
   ]
  },
  {
   "cell_type": "code",
   "execution_count": 21,
   "id": "72093b78",
   "metadata": {},
   "outputs": [
    {
     "data": {
      "text/html": [
       "<div>\n",
       "<style scoped>\n",
       "    .dataframe tbody tr th:only-of-type {\n",
       "        vertical-align: middle;\n",
       "    }\n",
       "\n",
       "    .dataframe tbody tr th {\n",
       "        vertical-align: top;\n",
       "    }\n",
       "\n",
       "    .dataframe thead th {\n",
       "        text-align: right;\n",
       "    }\n",
       "</style>\n",
       "<table border=\"1\" class=\"dataframe\">\n",
       "  <thead>\n",
       "    <tr style=\"text-align: right;\">\n",
       "      <th></th>\n",
       "      <th>Year</th>\n",
       "      <th>GDP_Per_Capita</th>\n",
       "    </tr>\n",
       "  </thead>\n",
       "  <tbody>\n",
       "    <tr>\n",
       "      <th>count</th>\n",
       "      <td>241.0</td>\n",
       "      <td>241.000000</td>\n",
       "    </tr>\n",
       "    <tr>\n",
       "      <th>mean</th>\n",
       "      <td>2021.0</td>\n",
       "      <td>20711.570080</td>\n",
       "    </tr>\n",
       "    <tr>\n",
       "      <th>std</th>\n",
       "      <td>0.0</td>\n",
       "      <td>20916.978968</td>\n",
       "    </tr>\n",
       "    <tr>\n",
       "      <th>min</th>\n",
       "      <td>2021.0</td>\n",
       "      <td>714.066712</td>\n",
       "    </tr>\n",
       "    <tr>\n",
       "      <th>25%</th>\n",
       "      <td>2021.0</td>\n",
       "      <td>5044.196028</td>\n",
       "    </tr>\n",
       "    <tr>\n",
       "      <th>50%</th>\n",
       "      <td>2021.0</td>\n",
       "      <td>13754.802423</td>\n",
       "    </tr>\n",
       "    <tr>\n",
       "      <th>75%</th>\n",
       "      <td>2021.0</td>\n",
       "      <td>30974.370692</td>\n",
       "    </tr>\n",
       "    <tr>\n",
       "      <th>max</th>\n",
       "      <td>2021.0</td>\n",
       "      <td>115683.493708</td>\n",
       "    </tr>\n",
       "  </tbody>\n",
       "</table>\n",
       "</div>"
      ],
      "text/plain": [
       "         Year  GDP_Per_Capita\n",
       "count   241.0      241.000000\n",
       "mean   2021.0    20711.570080\n",
       "std       0.0    20916.978968\n",
       "min    2021.0      714.066712\n",
       "25%    2021.0     5044.196028\n",
       "50%    2021.0    13754.802423\n",
       "75%    2021.0    30974.370692\n",
       "max    2021.0   115683.493708"
      ]
     },
     "execution_count": 21,
     "metadata": {},
     "output_type": "execute_result"
    }
   ],
   "source": [
    "gdp_2021.describe()"
   ]
  },
  {
   "cell_type": "markdown",
   "id": "4622b673",
   "metadata": {},
   "source": [
    "## #11"
   ]
  },
  {
   "cell_type": "code",
   "execution_count": 30,
   "id": "eec5be9e",
   "metadata": {},
   "outputs": [
    {
     "data": {
      "image/png": "[encoded data removed]",
      "text/plain": [
       "<Figure size 640x480 with 1 Axes>"
      ]
     },
     "metadata": {},
     "output_type": "display_data"
    }
   ],
   "source": [
    "#gdp_2021[\"GDP_Per_Capita\"].hist()\n",
    "plt.hist(gdp_2021[\"GDP_Per_Capita\"], bins = 12)\n",
    "plt.show()\n"
   ]
  },
  {
   "cell_type": "markdown",
   "id": "57fb3f96",
   "metadata": {},
   "source": [
    "###  It seems like the shape is an exponential decay, with the majority of the results being around the 0-20,000 GPD range."
   ]
  },
  {
   "cell_type": "markdown",
   "id": "c29d5311",
   "metadata": {},
   "source": [
    "## #12"
   ]
  },
  {
   "cell_type": "code",
   "execution_count": 37,
   "id": "6ad1214b",
   "metadata": {},
   "outputs": [
    {
     "name": "stdout",
     "output_type": "stream",
     "text": [
      "                       Country  Year  GDP_Per_Capita\n",
      "4147                Luxembourg  2021   115683.493708\n",
      "6107                 Singapore  2021   107741.118436\n",
      "3278                   Ireland  2021   102785.490239\n",
      "5745                     Qatar  2021    92862.571798\n",
      "680                    Bermuda  2021    78570.489515\n",
      "...                        ...   ...             ...\n",
      "5073                     Niger  2021     1186.576809\n",
      "6272                   Somalia  2021     1136.735989\n",
      "1629           Dem. Rep. Congo  2021     1073.643271\n",
      "1216  Central African Republic  2021      837.504686\n",
      "972                    Burundi  2021      714.066712\n",
      "\n",
      "[241 rows x 3 columns]\n"
     ]
    }
   ],
   "source": [
    "gdp_2021_sorted = gdp_2021.sort_values('GDP_Per_Capita', ascending = False)\n",
    "print(gdp_2021_sorted)"
   ]
  },
  {
   "cell_type": "code",
   "execution_count": 38,
   "id": "00034972",
   "metadata": {},
   "outputs": [
    {
     "data": {
      "text/html": [
       "<div>\n",
       "<style scoped>\n",
       "    .dataframe tbody tr th:only-of-type {\n",
       "        vertical-align: middle;\n",
       "    }\n",
       "\n",
       "    .dataframe tbody tr th {\n",
       "        vertical-align: top;\n",
       "    }\n",
       "\n",
       "    .dataframe thead th {\n",
       "        text-align: right;\n",
       "    }\n",
       "</style>\n",
       "<table border=\"1\" class=\"dataframe\">\n",
       "  <thead>\n",
       "    <tr style=\"text-align: right;\">\n",
       "      <th></th>\n",
       "      <th>Country</th>\n",
       "      <th>Year</th>\n",
       "      <th>GDP_Per_Capita</th>\n",
       "    </tr>\n",
       "  </thead>\n",
       "  <tbody>\n",
       "    <tr>\n",
       "      <th>4147</th>\n",
       "      <td>Luxembourg</td>\n",
       "      <td>2021</td>\n",
       "      <td>115683.493708</td>\n",
       "    </tr>\n",
       "    <tr>\n",
       "      <th>6107</th>\n",
       "      <td>Singapore</td>\n",
       "      <td>2021</td>\n",
       "      <td>107741.118436</td>\n",
       "    </tr>\n",
       "    <tr>\n",
       "      <th>3278</th>\n",
       "      <td>Ireland</td>\n",
       "      <td>2021</td>\n",
       "      <td>102785.490239</td>\n",
       "    </tr>\n",
       "    <tr>\n",
       "      <th>5745</th>\n",
       "      <td>Qatar</td>\n",
       "      <td>2021</td>\n",
       "      <td>92862.571798</td>\n",
       "    </tr>\n",
       "    <tr>\n",
       "      <th>680</th>\n",
       "      <td>Bermuda</td>\n",
       "      <td>2021</td>\n",
       "      <td>78570.489515</td>\n",
       "    </tr>\n",
       "  </tbody>\n",
       "</table>\n",
       "</div>"
      ],
      "text/plain": [
       "         Country  Year  GDP_Per_Capita\n",
       "4147  Luxembourg  2021   115683.493708\n",
       "6107   Singapore  2021   107741.118436\n",
       "3278     Ireland  2021   102785.490239\n",
       "5745       Qatar  2021    92862.571798\n",
       "680      Bermuda  2021    78570.489515"
      ]
     },
     "execution_count": 38,
     "metadata": {},
     "output_type": "execute_result"
    }
   ],
   "source": [
    "gdp_2021_sorted.head(5)"
   ]
  },
  {
   "cell_type": "code",
   "execution_count": 39,
   "id": "fe9907e4",
   "metadata": {},
   "outputs": [
    {
     "data": {
      "text/html": [
       "<div>\n",
       "<style scoped>\n",
       "    .dataframe tbody tr th:only-of-type {\n",
       "        vertical-align: middle;\n",
       "    }\n",
       "\n",
       "    .dataframe tbody tr th {\n",
       "        vertical-align: top;\n",
       "    }\n",
       "\n",
       "    .dataframe thead th {\n",
       "        text-align: right;\n",
       "    }\n",
       "</style>\n",
       "<table border=\"1\" class=\"dataframe\">\n",
       "  <thead>\n",
       "    <tr style=\"text-align: right;\">\n",
       "      <th></th>\n",
       "      <th>Country</th>\n",
       "      <th>Year</th>\n",
       "      <th>GDP_Per_Capita</th>\n",
       "    </tr>\n",
       "  </thead>\n",
       "  <tbody>\n",
       "    <tr>\n",
       "      <th>5073</th>\n",
       "      <td>Niger</td>\n",
       "      <td>2021</td>\n",
       "      <td>1186.576809</td>\n",
       "    </tr>\n",
       "    <tr>\n",
       "      <th>6272</th>\n",
       "      <td>Somalia</td>\n",
       "      <td>2021</td>\n",
       "      <td>1136.735989</td>\n",
       "    </tr>\n",
       "    <tr>\n",
       "      <th>1629</th>\n",
       "      <td>Dem. Rep. Congo</td>\n",
       "      <td>2021</td>\n",
       "      <td>1073.643271</td>\n",
       "    </tr>\n",
       "    <tr>\n",
       "      <th>1216</th>\n",
       "      <td>Central African Republic</td>\n",
       "      <td>2021</td>\n",
       "      <td>837.504686</td>\n",
       "    </tr>\n",
       "    <tr>\n",
       "      <th>972</th>\n",
       "      <td>Burundi</td>\n",
       "      <td>2021</td>\n",
       "      <td>714.066712</td>\n",
       "    </tr>\n",
       "  </tbody>\n",
       "</table>\n",
       "</div>"
      ],
      "text/plain": [
       "                       Country  Year  GDP_Per_Capita\n",
       "5073                     Niger  2021     1186.576809\n",
       "6272                   Somalia  2021     1136.735989\n",
       "1629           Dem. Rep. Congo  2021     1073.643271\n",
       "1216  Central African Republic  2021      837.504686\n",
       "972                    Burundi  2021      714.066712"
      ]
     },
     "execution_count": 39,
     "metadata": {},
     "output_type": "execute_result"
    }
   ],
   "source": [
    "gdp_2021_sorted.tail(5)"
   ]
  },
  {
   "cell_type": "markdown",
   "id": "ccba85d5",
   "metadata": {},
   "source": [
    "## #13"
   ]
  },
  {
   "cell_type": "code",
   "execution_count": 42,
   "id": "1ff5d365",
   "metadata": {},
   "outputs": [],
   "source": [
    "gdp_pivoted = gdp_df[(gdp_df['Year'] == 2021) | (gdp_df['Year'] == 1990)].pivot_table(values = 'GDP_Per_Capita', index = 'Country', columns = 'Year')"
   ]
  },
  {
   "cell_type": "code",
   "execution_count": 43,
   "id": "886043e5",
   "metadata": {},
   "outputs": [
    {
     "name": "stdout",
     "output_type": "stream",
     "text": [
      "Year                                1990          2021\n",
      "Country                                               \n",
      "Afghanistan                          NaN   1517.016266\n",
      "Africa Eastern and Southern  3037.297466   3519.174840\n",
      "Africa Western and Central   2788.301039   4014.607965\n",
      "Albania                      4827.027705  14595.944386\n",
      "Algeria                      8828.874473  11029.138782\n",
      "...                                  ...           ...\n",
      "Viet Nam                     2099.394649  10628.219166\n",
      "West Bank and Gaza                   NaN   5641.044400\n",
      "World                        9705.981267  17055.357429\n",
      "Zambia                       2290.039226   3236.788981\n",
      "Zimbabwe                     2704.757299   2115.144555\n",
      "\n",
      "[242 rows x 2 columns]\n"
     ]
    }
   ],
   "source": [
    "print(gdp_pivoted)"
   ]
  },
  {
   "cell_type": "code",
   "execution_count": 47,
   "id": "0fe83c04",
   "metadata": {},
   "outputs": [
    {
     "name": "stdout",
     "output_type": "stream",
     "text": [
      "Year                                1990          2021\n",
      "Country                                               \n",
      "Africa Eastern and Southern  3037.297466   3519.174840\n",
      "Africa Western and Central   2788.301039   4014.607965\n",
      "Albania                      4827.027705  14595.944386\n",
      "Algeria                      8828.874473  11029.138782\n",
      "Angola                       5793.084512   5911.835657\n",
      "...                                  ...           ...\n",
      "Vanuatu                      2774.138350   2800.493866\n",
      "Viet Nam                     2099.394649  10628.219166\n",
      "World                        9705.981267  17055.357429\n",
      "Zambia                       2290.039226   3236.788981\n",
      "Zimbabwe                     2704.757299   2115.144555\n",
      "\n",
      "[206 rows x 2 columns]\n"
     ]
    }
   ],
   "source": [
    "gdp_pivoted = gdp_pivoted.dropna()\n",
    "print(gdp_pivoted)"
   ]
  },
  {
   "cell_type": "markdown",
   "id": "69c3a673",
   "metadata": {},
   "source": [
    "## #14"
   ]
  },
  {
   "cell_type": "code",
   "execution_count": 49,
   "id": "9b8e8b05",
   "metadata": {},
   "outputs": [],
   "source": [
    "gdp_pivoted['Percent_Change'] = (100*(gdp_pivoted[2021]-gdp_pivoted[1990]))/gdp_pivoted[1990]"
   ]
  },
  {
   "cell_type": "code",
   "execution_count": 50,
   "id": "b66a77c3",
   "metadata": {},
   "outputs": [
    {
     "name": "stdout",
     "output_type": "stream",
     "text": [
      "Year                                1990          2021  Percent_Change\n",
      "Country                                                               \n",
      "Africa Eastern and Southern  3037.297466   3519.174840       15.865334\n",
      "Africa Western and Central   2788.301039   4014.607965       43.980435\n",
      "Albania                      4827.027705  14595.944386      202.379544\n",
      "Algeria                      8828.874473  11029.138782       24.921232\n",
      "Angola                       5793.084512   5911.835657        2.049878\n",
      "...                                  ...           ...             ...\n",
      "Vanuatu                      2774.138350   2800.493866        0.950043\n",
      "Viet Nam                     2099.394649  10628.219166      406.251608\n",
      "World                        9705.981267  17055.357429       75.720074\n",
      "Zambia                       2290.039226   3236.788981       41.342076\n",
      "Zimbabwe                     2704.757299   2115.144555      -21.799100\n",
      "\n",
      "[206 rows x 3 columns]\n"
     ]
    }
   ],
   "source": [
    "print(gdp_pivoted)"
   ]
  },
  {
   "cell_type": "markdown",
   "id": "43ced43a",
   "metadata": {},
   "source": [
    "## #15"
   ]
  },
  {
   "cell_type": "code",
   "execution_count": 52,
   "id": "b32df64e",
   "metadata": {},
   "outputs": [
    {
     "data": {
      "text/plain": [
       "Year\n",
       "1990              19\n",
       "2021              19\n",
       "Percent_Change    19\n",
       "dtype: int64"
      ]
     },
     "execution_count": 52,
     "metadata": {},
     "output_type": "execute_result"
    }
   ],
   "source": [
    "gdp_pivoted[gdp_pivoted[\"Percent_Change\"] < 0].count()"
   ]
  },
  {
   "cell_type": "markdown",
   "id": "4256080d",
   "metadata": {},
   "source": [
    "### 19 countries experienced a negative percent change between 1990 and 2021."
   ]
  },
  {
   "cell_type": "markdown",
   "id": "9a968e82",
   "metadata": {},
   "source": [
    "## #16"
   ]
  },
  {
   "cell_type": "code",
   "execution_count": 53,
   "id": "a43c6c0a",
   "metadata": {},
   "outputs": [
    {
     "data": {
      "text/html": [
       "<div>\n",
       "<style scoped>\n",
       "    .dataframe tbody tr th:only-of-type {\n",
       "        vertical-align: middle;\n",
       "    }\n",
       "\n",
       "    .dataframe tbody tr th {\n",
       "        vertical-align: top;\n",
       "    }\n",
       "\n",
       "    .dataframe thead th {\n",
       "        text-align: right;\n",
       "    }\n",
       "</style>\n",
       "<table border=\"1\" class=\"dataframe\">\n",
       "  <thead>\n",
       "    <tr style=\"text-align: right;\">\n",
       "      <th>Year</th>\n",
       "      <th>1990</th>\n",
       "      <th>2021</th>\n",
       "      <th>Percent_Change</th>\n",
       "    </tr>\n",
       "    <tr>\n",
       "      <th>Country</th>\n",
       "      <th></th>\n",
       "      <th></th>\n",
       "      <th></th>\n",
       "    </tr>\n",
       "  </thead>\n",
       "  <tbody>\n",
       "    <tr>\n",
       "      <th>Equatorial Guinea</th>\n",
       "      <td>936.419751</td>\n",
       "      <td>14637.007350</td>\n",
       "      <td>1463.081870</td>\n",
       "    </tr>\n",
       "    <tr>\n",
       "      <th>China</th>\n",
       "      <td>1423.896348</td>\n",
       "      <td>17657.495181</td>\n",
       "      <td>1140.082904</td>\n",
       "    </tr>\n",
       "    <tr>\n",
       "      <th>East Asia &amp; Pacific (excluding high income)</th>\n",
       "      <td>2191.972060</td>\n",
       "      <td>15415.447708</td>\n",
       "      <td>603.268440</td>\n",
       "    </tr>\n",
       "    <tr>\n",
       "      <th>East Asia &amp; Pacific (IDA &amp; IBRD)</th>\n",
       "      <td>2218.031627</td>\n",
       "      <td>15586.699395</td>\n",
       "      <td>602.726652</td>\n",
       "    </tr>\n",
       "    <tr>\n",
       "      <th>Myanmar</th>\n",
       "      <td>581.613311</td>\n",
       "      <td>4032.625653</td>\n",
       "      <td>593.351678</td>\n",
       "    </tr>\n",
       "    <tr>\n",
       "      <th>...</th>\n",
       "      <td>...</td>\n",
       "      <td>...</td>\n",
       "      <td>...</td>\n",
       "    </tr>\n",
       "    <tr>\n",
       "      <th>Central African Republic</th>\n",
       "      <td>1200.613390</td>\n",
       "      <td>837.504686</td>\n",
       "      <td>-30.243599</td>\n",
       "    </tr>\n",
       "    <tr>\n",
       "      <th>United Arab Emirates</th>\n",
       "      <td>105893.626059</td>\n",
       "      <td>69733.793774</td>\n",
       "      <td>-34.147317</td>\n",
       "    </tr>\n",
       "    <tr>\n",
       "      <th>Congo</th>\n",
       "      <td>5007.319245</td>\n",
       "      <td>3234.392972</td>\n",
       "      <td>-35.406695</td>\n",
       "    </tr>\n",
       "    <tr>\n",
       "      <th>Dem. Rep. Congo</th>\n",
       "      <td>1750.169739</td>\n",
       "      <td>1073.643271</td>\n",
       "      <td>-38.654906</td>\n",
       "    </tr>\n",
       "    <tr>\n",
       "      <th>Burundi</th>\n",
       "      <td>1175.155086</td>\n",
       "      <td>714.066712</td>\n",
       "      <td>-39.236385</td>\n",
       "    </tr>\n",
       "  </tbody>\n",
       "</table>\n",
       "<p>206 rows × 3 columns</p>\n",
       "</div>"
      ],
      "text/plain": [
       "Year                                                  1990          2021  \\\n",
       "Country                                                                    \n",
       "Equatorial Guinea                               936.419751  14637.007350   \n",
       "China                                          1423.896348  17657.495181   \n",
       "East Asia & Pacific (excluding high income)    2191.972060  15415.447708   \n",
       "East Asia & Pacific (IDA & IBRD)               2218.031627  15586.699395   \n",
       "Myanmar                                         581.613311   4032.625653   \n",
       "...                                                    ...           ...   \n",
       "Central African Republic                       1200.613390    837.504686   \n",
       "United Arab Emirates                         105893.626059  69733.793774   \n",
       "Congo                                          5007.319245   3234.392972   \n",
       "Dem. Rep. Congo                                1750.169739   1073.643271   \n",
       "Burundi                                        1175.155086    714.066712   \n",
       "\n",
       "Year                                         Percent_Change  \n",
       "Country                                                      \n",
       "Equatorial Guinea                               1463.081870  \n",
       "China                                           1140.082904  \n",
       "East Asia & Pacific (excluding high income)      603.268440  \n",
       "East Asia & Pacific (IDA & IBRD)                 602.726652  \n",
       "Myanmar                                          593.351678  \n",
       "...                                                     ...  \n",
       "Central African Republic                         -30.243599  \n",
       "United Arab Emirates                             -34.147317  \n",
       "Congo                                            -35.406695  \n",
       "Dem. Rep. Congo                                  -38.654906  \n",
       "Burundi                                          -39.236385  \n",
       "\n",
       "[206 rows x 3 columns]"
      ]
     },
     "execution_count": 53,
     "metadata": {},
     "output_type": "execute_result"
    }
   ],
   "source": [
    "gdp_pivoted.sort_values('Percent_Change',ascending = False)\n"
   ]
  },
  {
   "cell_type": "code",
   "execution_count": 54,
   "id": "651b194e",
   "metadata": {},
   "outputs": [
    {
     "name": "stdout",
     "output_type": "stream",
     "text": [
      "          Country  Year  GDP_Per_Capita\n",
      "0     Afghanistan  2021     1517.016266\n",
      "1     Afghanistan  2020     1968.341002\n",
      "2     Afghanistan  2019     2079.921861\n",
      "3     Afghanistan  2018     2060.698973\n",
      "4     Afghanistan  2017     2096.093111\n",
      "...           ...   ...             ...\n",
      "7657     Zimbabwe  1994     2670.106615\n",
      "7658     Zimbabwe  1993     2458.783255\n",
      "7659     Zimbabwe  1992     2468.278257\n",
      "7660     Zimbabwe  1991     2781.787843\n",
      "7661     Zimbabwe  1990     2704.757299\n",
      "\n",
      "[7662 rows x 3 columns]\n"
     ]
    }
   ],
   "source": [
    "print(gdp_df)\n"
   ]
  },
  {
   "cell_type": "code",
   "execution_count": 59,
   "id": "0208a317",
   "metadata": {},
   "outputs": [
    {
     "data": {
      "image/png": "[encoded data removed]",
      "text/plain": [
       "<Figure size 640x480 with 1 Axes>"
      ]
     },
     "metadata": {},
     "output_type": "display_data"
    }
   ],
   "source": [
    "gdp_graph_equatorial = gdp_df[gdp_df[\"Country\"] == \"Equatorial Guinea\"]\n",
    "plt.plot(gdp_graph_equatorial['Year'],gdp_graph_equatorial['GDP_Per_Capita'])\n",
    "plt.show()"
   ]
  },
  {
   "cell_type": "code",
   "execution_count": 60,
   "id": "01e6fa59",
   "metadata": {},
   "outputs": [
    {
     "data": {
      "image/png": "[encoded data removed]",
      "text/plain": [
       "<Figure size 640x480 with 1 Axes>"
      ]
     },
     "metadata": {},
     "output_type": "display_data"
    }
   ],
   "source": [
    "gdp_graph_china = gdp_df[gdp_df[\"Country\"] == \"China\"]\n",
    "plt.plot(gdp_graph_china['Year'],gdp_graph_china['GDP_Per_Capita'])\n",
    "plt.show()"
   ]
  },
  {
   "cell_type": "markdown",
   "id": "fdf25e53",
   "metadata": {},
   "source": [
    "### The trends take a different path to growth, as china was always going up, while Equatorial Guinea reached a much larger maximum, but went down for some of the time. "
   ]
  },
  {
   "cell_type": "code",
   "execution_count": 62,
   "id": "f2d4fa13",
   "metadata": {},
   "outputs": [
    {
     "data": {
      "image/png": "[encoded data removed]",
      "text/plain": [
       "<Figure size 640x480 with 1 Axes>"
      ]
     },
     "metadata": {},
     "output_type": "display_data"
    }
   ],
   "source": [
    "plt.plot(gdp_graph_equatorial['Year'],gdp_graph_equatorial['GDP_Per_Capita'])\n",
    "plt.plot(gdp_graph_china['Year'],gdp_graph_china['GDP_Per_Capita'])\n",
    "plt.show()\n"
   ]
  },
  {
   "cell_type": "markdown",
   "id": "18da0475",
   "metadata": {},
   "source": [
    "## #17"
   ]
  },
  {
   "cell_type": "code",
   "execution_count": 63,
   "id": "680c1abb",
   "metadata": {},
   "outputs": [],
   "source": [
    "continents = pd.read_csv(\"../data/continents.csv\")"
   ]
  },
  {
   "cell_type": "code",
   "execution_count": 64,
   "id": "170dd51f",
   "metadata": {},
   "outputs": [
    {
     "name": "stdout",
     "output_type": "stream",
     "text": [
      "    Continent             Country\n",
      "0        Asia         Afghanistan\n",
      "1      Europe             Albania\n",
      "2      Africa             Algeria\n",
      "3      Europe             Andorra\n",
      "4      Africa              Angola\n",
      "..        ...                 ...\n",
      "211      Asia             Vietnam\n",
      "212      Asia  West Bank and Gaza\n",
      "213      Asia               Yemen\n",
      "214    Africa              Zambia\n",
      "215    Africa            Zimbabwe\n",
      "\n",
      "[216 rows x 2 columns]\n"
     ]
    }
   ],
   "source": [
    "print(continents)"
   ]
  },
  {
   "cell_type": "markdown",
   "id": "90c15a22",
   "metadata": {},
   "source": [
    "## #18"
   ]
  },
  {
   "cell_type": "code",
   "execution_count": 73,
   "id": "32265d0d",
   "metadata": {
    "scrolled": true
   },
   "outputs": [
    {
     "name": "stdout",
     "output_type": "stream",
     "text": [
      "          Country  Year  GDP_Per_Capita Continent\n",
      "0     Afghanistan  2021     1517.016266      Asia\n",
      "1     Afghanistan  2020     1968.341002      Asia\n",
      "2     Afghanistan  2019     2079.921861      Asia\n",
      "3     Afghanistan  2018     2060.698973      Asia\n",
      "4     Afghanistan  2017     2096.093111      Asia\n",
      "...           ...   ...             ...       ...\n",
      "5888     Zimbabwe  1994     2670.106615    Africa\n",
      "5889     Zimbabwe  1993     2458.783255    Africa\n",
      "5890     Zimbabwe  1992     2468.278257    Africa\n",
      "5891     Zimbabwe  1991     2781.787843    Africa\n",
      "5892     Zimbabwe  1990     2704.757299    Africa\n",
      "\n",
      "[5893 rows x 4 columns]\n"
     ]
    }
   ],
   "source": [
    "\n",
    "gdp_df = gdp_df.merge(continents)\n",
    "print(gdp_df)"
   ]
  },
  {
   "cell_type": "code",
   "execution_count": 80,
   "id": "169217f6",
   "metadata": {},
   "outputs": [
    {
     "data": {
      "text/plain": [
       "(array([], dtype=int64), array([], dtype=int64))"
      ]
     },
     "execution_count": 80,
     "metadata": {},
     "output_type": "execute_result"
    }
   ],
   "source": [
    "np.where(gdp_df.isnull())"
   ]
  },
  {
   "cell_type": "markdown",
   "id": "d1e7f7ad",
   "metadata": {},
   "source": [
    "### I believe this is saying that there are no places where the continent doesn't have a country, or vice versa."
   ]
  },
  {
   "cell_type": "markdown",
   "id": "69b8e192",
   "metadata": {},
   "source": [
    "## #19"
   ]
  },
  {
   "cell_type": "code",
   "execution_count": 120,
   "id": "b17df6ce",
   "metadata": {},
   "outputs": [
    {
     "name": "stdout",
     "output_type": "stream",
     "text": [
      "       Continent  count\n",
      "0         Africa     50\n",
      "1         Europe     44\n",
      "2           Asia     41\n",
      "3  North America     26\n",
      "4        Oceania     14\n",
      "5  South America     11\n"
     ]
    }
   ],
   "source": [
    "gdp_drop = gdp_df.drop_duplicates(\"Country\")\n",
    "gdp_drop['Continent'].value_counts()\n",
    "gdp_drop_df = pd.DataFrame(gdp_drop['Continent'].value_counts()).reset_index()\n",
    "print(gdp_drop_df)"
   ]
  },
  {
   "cell_type": "code",
   "execution_count": 121,
   "id": "2d646041",
   "metadata": {},
   "outputs": [
    {
     "data": {
      "text/plain": [
       "<BarContainer object of 6 artists>"
      ]
     },
     "execution_count": 121,
     "metadata": {},
     "output_type": "execute_result"
    },
    {
     "data": {
      "image/png": "[encoded data removed]",
      "text/plain": [
       "<Figure size 640x480 with 1 Axes>"
      ]
     },
     "metadata": {},
     "output_type": "display_data"
    }
   ],
   "source": [
    "plt.bar(gdp_drop_df[\"Continent\"],gdp_drop_df[\"count\"])"
   ]
  },
  {
   "cell_type": "markdown",
   "id": "134b3c41",
   "metadata": {},
   "source": [
    "gdp_df.groupby(\"Continent\").nunique()['Country']       This is another similar easy way to do it. \n"
   ]
  },
  {
   "cell_type": "markdown",
   "id": "bc7dbc64",
   "metadata": {},
   "source": [
    "## #20"
   ]
  },
  {
   "cell_type": "code",
   "execution_count": 129,
   "id": "60b640a2",
   "metadata": {},
   "outputs": [
    {
     "data": {
      "text/html": [
       "<div>\n",
       "<style scoped>\n",
       "    .dataframe tbody tr th:only-of-type {\n",
       "        vertical-align: middle;\n",
       "    }\n",
       "\n",
       "    .dataframe tbody tr th {\n",
       "        vertical-align: top;\n",
       "    }\n",
       "\n",
       "    .dataframe thead th {\n",
       "        text-align: right;\n",
       "    }\n",
       "</style>\n",
       "<table border=\"1\" class=\"dataframe\">\n",
       "  <thead>\n",
       "    <tr style=\"text-align: right;\">\n",
       "      <th></th>\n",
       "      <th>Country</th>\n",
       "      <th>Year</th>\n",
       "      <th>GDP_Per_Capita</th>\n",
       "      <th>Continent</th>\n",
       "    </tr>\n",
       "  </thead>\n",
       "  <tbody>\n",
       "    <tr>\n",
       "      <th>0</th>\n",
       "      <td>Afghanistan</td>\n",
       "      <td>2021</td>\n",
       "      <td>1517.016266</td>\n",
       "      <td>Asia</td>\n",
       "    </tr>\n",
       "    <tr>\n",
       "      <th>21</th>\n",
       "      <td>Albania</td>\n",
       "      <td>2021</td>\n",
       "      <td>14595.944386</td>\n",
       "      <td>Europe</td>\n",
       "    </tr>\n",
       "    <tr>\n",
       "      <th>54</th>\n",
       "      <td>Algeria</td>\n",
       "      <td>2021</td>\n",
       "      <td>11029.138782</td>\n",
       "      <td>Africa</td>\n",
       "    </tr>\n",
       "    <tr>\n",
       "      <th>87</th>\n",
       "      <td>Angola</td>\n",
       "      <td>2021</td>\n",
       "      <td>5911.835657</td>\n",
       "      <td>Africa</td>\n",
       "    </tr>\n",
       "    <tr>\n",
       "      <th>120</th>\n",
       "      <td>Antigua and Barbuda</td>\n",
       "      <td>2021</td>\n",
       "      <td>19899.882425</td>\n",
       "      <td>North America</td>\n",
       "    </tr>\n",
       "    <tr>\n",
       "      <th>...</th>\n",
       "      <td>...</td>\n",
       "      <td>...</td>\n",
       "      <td>...</td>\n",
       "      <td>...</td>\n",
       "    </tr>\n",
       "    <tr>\n",
       "      <th>5733</th>\n",
       "      <td>Uzbekistan</td>\n",
       "      <td>2021</td>\n",
       "      <td>7800.501501</td>\n",
       "      <td>Asia</td>\n",
       "    </tr>\n",
       "    <tr>\n",
       "      <th>5766</th>\n",
       "      <td>Vanuatu</td>\n",
       "      <td>2021</td>\n",
       "      <td>2800.493866</td>\n",
       "      <td>Oceania</td>\n",
       "    </tr>\n",
       "    <tr>\n",
       "      <th>5799</th>\n",
       "      <td>West Bank and Gaza</td>\n",
       "      <td>2021</td>\n",
       "      <td>5641.044400</td>\n",
       "      <td>Asia</td>\n",
       "    </tr>\n",
       "    <tr>\n",
       "      <th>5828</th>\n",
       "      <td>Zambia</td>\n",
       "      <td>2021</td>\n",
       "      <td>3236.788981</td>\n",
       "      <td>Africa</td>\n",
       "    </tr>\n",
       "    <tr>\n",
       "      <th>5861</th>\n",
       "      <td>Zimbabwe</td>\n",
       "      <td>2021</td>\n",
       "      <td>2115.144555</td>\n",
       "      <td>Africa</td>\n",
       "    </tr>\n",
       "  </tbody>\n",
       "</table>\n",
       "<p>185 rows × 4 columns</p>\n",
       "</div>"
      ],
      "text/plain": [
       "                  Country  Year  GDP_Per_Capita      Continent\n",
       "0             Afghanistan  2021     1517.016266           Asia\n",
       "21                Albania  2021    14595.944386         Europe\n",
       "54                Algeria  2021    11029.138782         Africa\n",
       "87                 Angola  2021     5911.835657         Africa\n",
       "120   Antigua and Barbuda  2021    19899.882425  North America\n",
       "...                   ...   ...             ...            ...\n",
       "5733           Uzbekistan  2021     7800.501501           Asia\n",
       "5766              Vanuatu  2021     2800.493866        Oceania\n",
       "5799   West Bank and Gaza  2021     5641.044400           Asia\n",
       "5828               Zambia  2021     3236.788981         Africa\n",
       "5861             Zimbabwe  2021     2115.144555         Africa\n",
       "\n",
       "[185 rows x 4 columns]"
      ]
     },
     "execution_count": 129,
     "metadata": {},
     "output_type": "execute_result"
    }
   ],
   "source": [
    "gdp_df[gdp_df[\"Year\"] == 2021]\n"
   ]
  },
  {
   "cell_type": "code",
   "execution_count": null,
   "id": "e0371240",
   "metadata": {},
   "outputs": [],
   "source": []
  }
 ],
 "metadata": {
  "kernelspec": {
   "display_name": "Python 3 (ipykernel)",
   "language": "python",
   "name": "python3"
  },
  "language_info": {
   "codemirror_mode": {
    "name": "ipython",
    "version": 3
   },
   "file_extension": ".py",
   "mimetype": "text/x-python",
   "name": "python",
   "nbconvert_exporter": "python",
   "pygments_lexer": "ipython3",
   "version": "3.11.5"
  }
 },
 "nbformat": 4,
 "nbformat_minor": 5
}
