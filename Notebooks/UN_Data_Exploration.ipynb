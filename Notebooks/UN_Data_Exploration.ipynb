{
 "cells": [
  {
   "cell_type": "markdown",
   "id": "a3e9a845",
   "metadata": {},
   "source": [
    "## UN Data Exploration"
   ]
  },
  {
   "cell_type": "markdown",
   "id": "cc8dcca1",
   "metadata": {},
   "source": [
    "## #3"
   ]
  },
  {
   "cell_type": "code",
   "execution_count": 1,
   "id": "d8506a03",
   "metadata": {},
   "outputs": [],
   "source": [
    "import pandas as pd\n",
    "import numpy as np\n",
    "import matplotlib.pyplot as plt\n",
    "import seaborn as sns"
   ]
  },
  {
   "cell_type": "markdown",
   "id": "218f0e0f",
   "metadata": {},
   "source": [
    "## #4"
   ]
  },
  {
   "cell_type": "code",
   "execution_count": 2,
   "id": "f0cb53e9",
   "metadata": {},
   "outputs": [],
   "source": [
    "gdp_df = pd.read_csv(\"../data/gpd_per_capita.csv\")"
   ]
  },
  {
   "cell_type": "code",
   "execution_count": 3,
   "id": "e4608056",
   "metadata": {},
   "outputs": [
    {
     "name": "stdout",
     "output_type": "stream",
     "text": [
      "     Country or Area  Year        Value  Value Footnotes\n",
      "0        Afghanistan  2021  1517.016266              NaN\n",
      "1        Afghanistan  2020  1968.341002              NaN\n",
      "2        Afghanistan  2019  2079.921861              NaN\n",
      "3        Afghanistan  2018  2060.698973              NaN\n",
      "4        Afghanistan  2017  2096.093111              NaN\n",
      "...              ...   ...          ...              ...\n",
      "7657        Zimbabwe  1994  2670.106615              NaN\n",
      "7658        Zimbabwe  1993  2458.783255              NaN\n",
      "7659        Zimbabwe  1992  2468.278257              NaN\n",
      "7660        Zimbabwe  1991  2781.787843              NaN\n",
      "7661        Zimbabwe  1990  2704.757299              NaN\n",
      "\n",
      "[7662 rows x 4 columns]\n"
     ]
    }
   ],
   "source": [
    "print(gdp_df)"
   ]
  },
  {
   "cell_type": "code",
   "execution_count": 4,
   "id": "13dd57b1",
   "metadata": {},
   "outputs": [
    {
     "data": {
      "text/html": [
       "<div>\n",
       "<style scoped>\n",
       "    .dataframe tbody tr th:only-of-type {\n",
       "        vertical-align: middle;\n",
       "    }\n",
       "\n",
       "    .dataframe tbody tr th {\n",
       "        vertical-align: top;\n",
       "    }\n",
       "\n",
       "    .dataframe thead th {\n",
       "        text-align: right;\n",
       "    }\n",
       "</style>\n",
       "<table border=\"1\" class=\"dataframe\">\n",
       "  <thead>\n",
       "    <tr style=\"text-align: right;\">\n",
       "      <th></th>\n",
       "      <th>Country or Area</th>\n",
       "      <th>Year</th>\n",
       "      <th>Value</th>\n",
       "      <th>Value Footnotes</th>\n",
       "    </tr>\n",
       "  </thead>\n",
       "  <tbody>\n",
       "    <tr>\n",
       "      <th>0</th>\n",
       "      <td>Afghanistan</td>\n",
       "      <td>2021</td>\n",
       "      <td>1517.016266</td>\n",
       "      <td>NaN</td>\n",
       "    </tr>\n",
       "    <tr>\n",
       "      <th>1</th>\n",
       "      <td>Afghanistan</td>\n",
       "      <td>2020</td>\n",
       "      <td>1968.341002</td>\n",
       "      <td>NaN</td>\n",
       "    </tr>\n",
       "    <tr>\n",
       "      <th>2</th>\n",
       "      <td>Afghanistan</td>\n",
       "      <td>2019</td>\n",
       "      <td>2079.921861</td>\n",
       "      <td>NaN</td>\n",
       "    </tr>\n",
       "    <tr>\n",
       "      <th>3</th>\n",
       "      <td>Afghanistan</td>\n",
       "      <td>2018</td>\n",
       "      <td>2060.698973</td>\n",
       "      <td>NaN</td>\n",
       "    </tr>\n",
       "    <tr>\n",
       "      <th>4</th>\n",
       "      <td>Afghanistan</td>\n",
       "      <td>2017</td>\n",
       "      <td>2096.093111</td>\n",
       "      <td>NaN</td>\n",
       "    </tr>\n",
       "    <tr>\n",
       "      <th>5</th>\n",
       "      <td>Afghanistan</td>\n",
       "      <td>2016</td>\n",
       "      <td>2101.422187</td>\n",
       "      <td>NaN</td>\n",
       "    </tr>\n",
       "    <tr>\n",
       "      <th>6</th>\n",
       "      <td>Afghanistan</td>\n",
       "      <td>2015</td>\n",
       "      <td>2108.714173</td>\n",
       "      <td>NaN</td>\n",
       "    </tr>\n",
       "    <tr>\n",
       "      <th>7</th>\n",
       "      <td>Afghanistan</td>\n",
       "      <td>2014</td>\n",
       "      <td>2144.449634</td>\n",
       "      <td>NaN</td>\n",
       "    </tr>\n",
       "    <tr>\n",
       "      <th>8</th>\n",
       "      <td>Afghanistan</td>\n",
       "      <td>2013</td>\n",
       "      <td>2165.340915</td>\n",
       "      <td>NaN</td>\n",
       "    </tr>\n",
       "    <tr>\n",
       "      <th>9</th>\n",
       "      <td>Afghanistan</td>\n",
       "      <td>2012</td>\n",
       "      <td>2122.830759</td>\n",
       "      <td>NaN</td>\n",
       "    </tr>\n",
       "  </tbody>\n",
       "</table>\n",
       "</div>"
      ],
      "text/plain": [
       "  Country or Area  Year        Value  Value Footnotes\n",
       "0     Afghanistan  2021  1517.016266              NaN\n",
       "1     Afghanistan  2020  1968.341002              NaN\n",
       "2     Afghanistan  2019  2079.921861              NaN\n",
       "3     Afghanistan  2018  2060.698973              NaN\n",
       "4     Afghanistan  2017  2096.093111              NaN\n",
       "5     Afghanistan  2016  2101.422187              NaN\n",
       "6     Afghanistan  2015  2108.714173              NaN\n",
       "7     Afghanistan  2014  2144.449634              NaN\n",
       "8     Afghanistan  2013  2165.340915              NaN\n",
       "9     Afghanistan  2012  2122.830759              NaN"
      ]
     },
     "execution_count": 4,
     "metadata": {},
     "output_type": "execute_result"
    }
   ],
   "source": [
    "gdp_df.head(10)\n"
   ]
  },
  {
   "cell_type": "code",
   "execution_count": 5,
   "id": "34cb7047",
   "metadata": {
    "scrolled": true
   },
   "outputs": [
    {
     "data": {
      "text/html": [
       "<div>\n",
       "<style scoped>\n",
       "    .dataframe tbody tr th:only-of-type {\n",
       "        vertical-align: middle;\n",
       "    }\n",
       "\n",
       "    .dataframe tbody tr th {\n",
       "        vertical-align: top;\n",
       "    }\n",
       "\n",
       "    .dataframe thead th {\n",
       "        text-align: right;\n",
       "    }\n",
       "</style>\n",
       "<table border=\"1\" class=\"dataframe\">\n",
       "  <thead>\n",
       "    <tr style=\"text-align: right;\">\n",
       "      <th></th>\n",
       "      <th>Country or Area</th>\n",
       "      <th>Year</th>\n",
       "      <th>Value</th>\n",
       "      <th>Value Footnotes</th>\n",
       "    </tr>\n",
       "  </thead>\n",
       "  <tbody>\n",
       "    <tr>\n",
       "      <th>7652</th>\n",
       "      <td>Zimbabwe</td>\n",
       "      <td>1999</td>\n",
       "      <td>2866.032886</td>\n",
       "      <td>NaN</td>\n",
       "    </tr>\n",
       "    <tr>\n",
       "      <th>7653</th>\n",
       "      <td>Zimbabwe</td>\n",
       "      <td>1998</td>\n",
       "      <td>2931.725144</td>\n",
       "      <td>NaN</td>\n",
       "    </tr>\n",
       "    <tr>\n",
       "      <th>7654</th>\n",
       "      <td>Zimbabwe</td>\n",
       "      <td>1997</td>\n",
       "      <td>2896.147308</td>\n",
       "      <td>NaN</td>\n",
       "    </tr>\n",
       "    <tr>\n",
       "      <th>7655</th>\n",
       "      <td>Zimbabwe</td>\n",
       "      <td>1996</td>\n",
       "      <td>2867.026043</td>\n",
       "      <td>NaN</td>\n",
       "    </tr>\n",
       "    <tr>\n",
       "      <th>7656</th>\n",
       "      <td>Zimbabwe</td>\n",
       "      <td>1995</td>\n",
       "      <td>2641.378271</td>\n",
       "      <td>NaN</td>\n",
       "    </tr>\n",
       "    <tr>\n",
       "      <th>7657</th>\n",
       "      <td>Zimbabwe</td>\n",
       "      <td>1994</td>\n",
       "      <td>2670.106615</td>\n",
       "      <td>NaN</td>\n",
       "    </tr>\n",
       "    <tr>\n",
       "      <th>7658</th>\n",
       "      <td>Zimbabwe</td>\n",
       "      <td>1993</td>\n",
       "      <td>2458.783255</td>\n",
       "      <td>NaN</td>\n",
       "    </tr>\n",
       "    <tr>\n",
       "      <th>7659</th>\n",
       "      <td>Zimbabwe</td>\n",
       "      <td>1992</td>\n",
       "      <td>2468.278257</td>\n",
       "      <td>NaN</td>\n",
       "    </tr>\n",
       "    <tr>\n",
       "      <th>7660</th>\n",
       "      <td>Zimbabwe</td>\n",
       "      <td>1991</td>\n",
       "      <td>2781.787843</td>\n",
       "      <td>NaN</td>\n",
       "    </tr>\n",
       "    <tr>\n",
       "      <th>7661</th>\n",
       "      <td>Zimbabwe</td>\n",
       "      <td>1990</td>\n",
       "      <td>2704.757299</td>\n",
       "      <td>NaN</td>\n",
       "    </tr>\n",
       "  </tbody>\n",
       "</table>\n",
       "</div>"
      ],
      "text/plain": [
       "     Country or Area  Year        Value  Value Footnotes\n",
       "7652        Zimbabwe  1999  2866.032886              NaN\n",
       "7653        Zimbabwe  1998  2931.725144              NaN\n",
       "7654        Zimbabwe  1997  2896.147308              NaN\n",
       "7655        Zimbabwe  1996  2867.026043              NaN\n",
       "7656        Zimbabwe  1995  2641.378271              NaN\n",
       "7657        Zimbabwe  1994  2670.106615              NaN\n",
       "7658        Zimbabwe  1993  2458.783255              NaN\n",
       "7659        Zimbabwe  1992  2468.278257              NaN\n",
       "7660        Zimbabwe  1991  2781.787843              NaN\n",
       "7661        Zimbabwe  1990  2704.757299              NaN"
      ]
     },
     "execution_count": 5,
     "metadata": {},
     "output_type": "execute_result"
    }
   ],
   "source": [
    "gdp_df.tail(10)\n"
   ]
  },
  {
   "cell_type": "markdown",
   "id": "9b08e7fe",
   "metadata": {},
   "source": [
    "## #5"
   ]
  },
  {
   "cell_type": "code",
   "execution_count": 6,
   "id": "8ae39128",
   "metadata": {},
   "outputs": [],
   "source": [
    "gdp_df = gdp_df.drop(\"Value Footnotes\", axis = 1)"
   ]
  },
  {
   "cell_type": "code",
   "execution_count": 7,
   "id": "c19ca45f",
   "metadata": {},
   "outputs": [],
   "source": [
    "gdp_df = gdp_df.rename(columns = {\"Country or Area\": \"Country\", \"Year\":\"Year\", \"Value\" : \"GDP_Per_Capita\"})"
   ]
  },
  {
   "cell_type": "code",
   "execution_count": 8,
   "id": "7e021f03",
   "metadata": {
    "scrolled": true
   },
   "outputs": [
    {
     "data": {
      "text/html": [
       "<div>\n",
       "<style scoped>\n",
       "    .dataframe tbody tr th:only-of-type {\n",
       "        vertical-align: middle;\n",
       "    }\n",
       "\n",
       "    .dataframe tbody tr th {\n",
       "        vertical-align: top;\n",
       "    }\n",
       "\n",
       "    .dataframe thead th {\n",
       "        text-align: right;\n",
       "    }\n",
       "</style>\n",
       "<table border=\"1\" class=\"dataframe\">\n",
       "  <thead>\n",
       "    <tr style=\"text-align: right;\">\n",
       "      <th></th>\n",
       "      <th>Country</th>\n",
       "      <th>Year</th>\n",
       "      <th>GDP_Per_Capita</th>\n",
       "    </tr>\n",
       "  </thead>\n",
       "  <tbody>\n",
       "    <tr>\n",
       "      <th>0</th>\n",
       "      <td>Afghanistan</td>\n",
       "      <td>2021</td>\n",
       "      <td>1517.016266</td>\n",
       "    </tr>\n",
       "    <tr>\n",
       "      <th>1</th>\n",
       "      <td>Afghanistan</td>\n",
       "      <td>2020</td>\n",
       "      <td>1968.341002</td>\n",
       "    </tr>\n",
       "    <tr>\n",
       "      <th>2</th>\n",
       "      <td>Afghanistan</td>\n",
       "      <td>2019</td>\n",
       "      <td>2079.921861</td>\n",
       "    </tr>\n",
       "    <tr>\n",
       "      <th>3</th>\n",
       "      <td>Afghanistan</td>\n",
       "      <td>2018</td>\n",
       "      <td>2060.698973</td>\n",
       "    </tr>\n",
       "    <tr>\n",
       "      <th>4</th>\n",
       "      <td>Afghanistan</td>\n",
       "      <td>2017</td>\n",
       "      <td>2096.093111</td>\n",
       "    </tr>\n",
       "    <tr>\n",
       "      <th>...</th>\n",
       "      <td>...</td>\n",
       "      <td>...</td>\n",
       "      <td>...</td>\n",
       "    </tr>\n",
       "    <tr>\n",
       "      <th>7657</th>\n",
       "      <td>Zimbabwe</td>\n",
       "      <td>1994</td>\n",
       "      <td>2670.106615</td>\n",
       "    </tr>\n",
       "    <tr>\n",
       "      <th>7658</th>\n",
       "      <td>Zimbabwe</td>\n",
       "      <td>1993</td>\n",
       "      <td>2458.783255</td>\n",
       "    </tr>\n",
       "    <tr>\n",
       "      <th>7659</th>\n",
       "      <td>Zimbabwe</td>\n",
       "      <td>1992</td>\n",
       "      <td>2468.278257</td>\n",
       "    </tr>\n",
       "    <tr>\n",
       "      <th>7660</th>\n",
       "      <td>Zimbabwe</td>\n",
       "      <td>1991</td>\n",
       "      <td>2781.787843</td>\n",
       "    </tr>\n",
       "    <tr>\n",
       "      <th>7661</th>\n",
       "      <td>Zimbabwe</td>\n",
       "      <td>1990</td>\n",
       "      <td>2704.757299</td>\n",
       "    </tr>\n",
       "  </tbody>\n",
       "</table>\n",
       "<p>7662 rows × 3 columns</p>\n",
       "</div>"
      ],
      "text/plain": [
       "          Country  Year  GDP_Per_Capita\n",
       "0     Afghanistan  2021     1517.016266\n",
       "1     Afghanistan  2020     1968.341002\n",
       "2     Afghanistan  2019     2079.921861\n",
       "3     Afghanistan  2018     2060.698973\n",
       "4     Afghanistan  2017     2096.093111\n",
       "...           ...   ...             ...\n",
       "7657     Zimbabwe  1994     2670.106615\n",
       "7658     Zimbabwe  1993     2458.783255\n",
       "7659     Zimbabwe  1992     2468.278257\n",
       "7660     Zimbabwe  1991     2781.787843\n",
       "7661     Zimbabwe  1990     2704.757299\n",
       "\n",
       "[7662 rows x 3 columns]"
      ]
     },
     "execution_count": 8,
     "metadata": {},
     "output_type": "execute_result"
    }
   ],
   "source": [
    "gdp_df"
   ]
  },
  {
   "cell_type": "markdown",
   "id": "70d43f02",
   "metadata": {},
   "source": [
    "## #6"
   ]
  },
  {
   "cell_type": "code",
   "execution_count": 9,
   "id": "ae5c77b8",
   "metadata": {},
   "outputs": [
    {
     "data": {
      "text/plain": [
       "(7662, 3)"
      ]
     },
     "execution_count": 9,
     "metadata": {},
     "output_type": "execute_result"
    }
   ],
   "source": [
    "gdp_df.shape"
   ]
  },
  {
   "cell_type": "code",
   "execution_count": 10,
   "id": "d0af3475",
   "metadata": {
    "scrolled": true
   },
   "outputs": [
    {
     "data": {
      "text/plain": [
       "Country            object\n",
       "Year                int64\n",
       "GDP_Per_Capita    float64\n",
       "dtype: object"
      ]
     },
     "execution_count": 10,
     "metadata": {},
     "output_type": "execute_result"
    }
   ],
   "source": [
    "gdp_df.dtypes"
   ]
  },
  {
   "cell_type": "markdown",
   "id": "ca72fb7b",
   "metadata": {},
   "source": [
    "### There are 7662 rows and 3 columns. The data types are expected."
   ]
  },
  {
   "cell_type": "markdown",
   "id": "1b8a79e6",
   "metadata": {},
   "source": [
    "## #7"
   ]
  },
  {
   "cell_type": "code",
   "execution_count": 11,
   "id": "07897ea4",
   "metadata": {},
   "outputs": [
    {
     "data": {
      "text/plain": [
       "7662"
      ]
     },
     "execution_count": 11,
     "metadata": {},
     "output_type": "execute_result"
    }
   ],
   "source": [
    "gdp_df[\"Year\"].count()"
   ]
  },
  {
   "cell_type": "code",
   "execution_count": 12,
   "id": "2b404f41",
   "metadata": {},
   "outputs": [
    {
     "name": "stdout",
     "output_type": "stream",
     "text": [
      "Year\n",
      "2013    242\n",
      "2016    242\n",
      "2014    242\n",
      "2015    242\n",
      "2020    242\n",
      "2017    242\n",
      "2018    242\n",
      "2019    242\n",
      "2021    241\n",
      "2012    240\n",
      "2011    240\n",
      "2010    239\n",
      "2009    239\n",
      "2008    238\n",
      "2007    237\n",
      "2006    237\n",
      "2004    236\n",
      "2005    236\n",
      "2003    235\n",
      "2002    235\n",
      "2001    234\n",
      "2000    233\n",
      "2022    232\n",
      "1999    227\n",
      "1998    226\n",
      "1997    226\n",
      "1996    223\n",
      "1995    223\n",
      "1994    213\n",
      "1993    211\n",
      "1992    210\n",
      "1991    208\n",
      "1990    207\n",
      "Name: count, dtype: int64\n"
     ]
    }
   ],
   "source": [
    "Years = gdp_df[\"Year\"].value_counts()\n",
    "print(Years)"
   ]
  },
  {
   "cell_type": "code",
   "execution_count": 13,
   "id": "4923f2f1",
   "metadata": {},
   "outputs": [
    {
     "name": "stdout",
     "output_type": "stream",
     "text": [
      "Year\n",
      "2013    242\n",
      "2017    242\n",
      "2019    242\n",
      "2018    242\n",
      "2016    242\n",
      "2020    242\n",
      "2015    242\n",
      "2014    242\n",
      "2021    241\n",
      "2012    240\n",
      "2011    240\n",
      "2010    239\n",
      "2009    239\n",
      "2008    238\n",
      "2007    237\n",
      "2006    237\n",
      "2005    236\n",
      "2004    236\n",
      "2003    235\n",
      "2002    235\n",
      "2001    234\n",
      "2000    233\n",
      "2022    232\n",
      "1999    227\n",
      "1998    226\n",
      "1997    226\n",
      "1996    223\n",
      "1995    223\n",
      "1994    213\n",
      "1993    211\n",
      "1992    210\n",
      "1991    208\n",
      "1990    207\n",
      "Name: count, dtype: int64\n"
     ]
    }
   ],
   "source": [
    "Years = Years.sort_values(axis = 0, ascending = False)\n",
    "print(Years)"
   ]
  },
  {
   "cell_type": "markdown",
   "id": "5a8db083",
   "metadata": {},
   "source": [
    "### Years from 1990 - 2022 are included, and it seems to pretty consistently go up throughout the years excluding 2021 and 2022, so some countries didn't give their data for those two previous years."
   ]
  },
  {
   "cell_type": "markdown",
   "id": "de9e7ba4",
   "metadata": {},
   "source": [
    "## #8"
   ]
  },
  {
   "cell_type": "code",
   "execution_count": 14,
   "id": "eb12fc46",
   "metadata": {},
   "outputs": [
    {
     "data": {
      "text/plain": [
       "Country\n",
       "Least developed countries: UN classification    33\n",
       "Middle East & North Africa                      33\n",
       "Middle East & North Africa (IDA & IBRD)         33\n",
       "Middle income                                   33\n",
       "Mongolia                                        33\n",
       "                                                ..\n",
       "Kosovo                                          15\n",
       "Sint Maarten (Dutch part)                       14\n",
       "Turks and Caicos Islands                        12\n",
       "Somalia                                         10\n",
       "Djibouti                                        10\n",
       "Name: count, Length: 242, dtype: int64"
      ]
     },
     "execution_count": 14,
     "metadata": {},
     "output_type": "execute_result"
    }
   ],
   "source": [
    "gdp_df[\"Country\"].value_counts()"
   ]
  },
  {
   "cell_type": "markdown",
   "id": "8f873442",
   "metadata": {},
   "source": [
    "### There are 242 different countries represented in the dataset, which seems to show that it is not only countries represented in the listing. "
   ]
  },
  {
   "cell_type": "markdown",
   "id": "0fb17c3e",
   "metadata": {},
   "source": [
    "### Those countries at the bottom might have less obvservations because they are newly recognized countries potentially."
   ]
  },
  {
   "cell_type": "markdown",
   "id": "297efa2a",
   "metadata": {},
   "source": [
    "## #9"
   ]
  },
  {
   "cell_type": "code",
   "execution_count": 15,
   "id": "150b5fdc",
   "metadata": {},
   "outputs": [],
   "source": [
    "gdp_2021 = gdp_df[gdp_df[\"Year\"] == 2021]"
   ]
  },
  {
   "cell_type": "code",
   "execution_count": 16,
   "id": "7ed184c5",
   "metadata": {},
   "outputs": [
    {
     "name": "stdout",
     "output_type": "stream",
     "text": [
      "                          Country  Year  GDP_Per_Capita\n",
      "0                     Afghanistan  2021     1517.016266\n",
      "21    Africa Eastern and Southern  2021     3519.174840\n",
      "54     Africa Western and Central  2021     4014.607965\n",
      "87                        Albania  2021    14595.944386\n",
      "120                       Algeria  2021    11029.138782\n",
      "...                           ...   ...             ...\n",
      "7502                     Viet Nam  2021    10628.219166\n",
      "7535           West Bank and Gaza  2021     5641.044400\n",
      "7564                        World  2021    17055.357429\n",
      "7597                       Zambia  2021     3236.788981\n",
      "7630                     Zimbabwe  2021     2115.144555\n",
      "\n",
      "[241 rows x 3 columns]\n"
     ]
    }
   ],
   "source": [
    "print(gdp_2021)"
   ]
  },
  {
   "cell_type": "markdown",
   "id": "6b302b4d",
   "metadata": {},
   "source": [
    "## #10"
   ]
  },
  {
   "cell_type": "code",
   "execution_count": 17,
   "id": "72093b78",
   "metadata": {},
   "outputs": [
    {
     "data": {
      "text/html": [
       "<div>\n",
       "<style scoped>\n",
       "    .dataframe tbody tr th:only-of-type {\n",
       "        vertical-align: middle;\n",
       "    }\n",
       "\n",
       "    .dataframe tbody tr th {\n",
       "        vertical-align: top;\n",
       "    }\n",
       "\n",
       "    .dataframe thead th {\n",
       "        text-align: right;\n",
       "    }\n",
       "</style>\n",
       "<table border=\"1\" class=\"dataframe\">\n",
       "  <thead>\n",
       "    <tr style=\"text-align: right;\">\n",
       "      <th></th>\n",
       "      <th>Year</th>\n",
       "      <th>GDP_Per_Capita</th>\n",
       "    </tr>\n",
       "  </thead>\n",
       "  <tbody>\n",
       "    <tr>\n",
       "      <th>count</th>\n",
       "      <td>241.0</td>\n",
       "      <td>241.000000</td>\n",
       "    </tr>\n",
       "    <tr>\n",
       "      <th>mean</th>\n",
       "      <td>2021.0</td>\n",
       "      <td>20711.570080</td>\n",
       "    </tr>\n",
       "    <tr>\n",
       "      <th>std</th>\n",
       "      <td>0.0</td>\n",
       "      <td>20916.978968</td>\n",
       "    </tr>\n",
       "    <tr>\n",
       "      <th>min</th>\n",
       "      <td>2021.0</td>\n",
       "      <td>714.066712</td>\n",
       "    </tr>\n",
       "    <tr>\n",
       "      <th>25%</th>\n",
       "      <td>2021.0</td>\n",
       "      <td>5044.196028</td>\n",
       "    </tr>\n",
       "    <tr>\n",
       "      <th>50%</th>\n",
       "      <td>2021.0</td>\n",
       "      <td>13754.802423</td>\n",
       "    </tr>\n",
       "    <tr>\n",
       "      <th>75%</th>\n",
       "      <td>2021.0</td>\n",
       "      <td>30974.370692</td>\n",
       "    </tr>\n",
       "    <tr>\n",
       "      <th>max</th>\n",
       "      <td>2021.0</td>\n",
       "      <td>115683.493708</td>\n",
       "    </tr>\n",
       "  </tbody>\n",
       "</table>\n",
       "</div>"
      ],
      "text/plain": [
       "         Year  GDP_Per_Capita\n",
       "count   241.0      241.000000\n",
       "mean   2021.0    20711.570080\n",
       "std       0.0    20916.978968\n",
       "min    2021.0      714.066712\n",
       "25%    2021.0     5044.196028\n",
       "50%    2021.0    13754.802423\n",
       "75%    2021.0    30974.370692\n",
       "max    2021.0   115683.493708"
      ]
     },
     "execution_count": 17,
     "metadata": {},
     "output_type": "execute_result"
    }
   ],
   "source": [
    "gdp_2021.describe()"
   ]
  },
  {
   "cell_type": "markdown",
   "id": "4622b673",
   "metadata": {},
   "source": [
    "## #11"
   ]
  },
  {
   "cell_type": "code",
   "execution_count": 18,
   "id": "eec5be9e",
   "metadata": {},
   "outputs": [
    {
     "data": {
      "image/png": "[encoded data removed]",
      "text/plain": [
       "<Figure size 640x480 with 1 Axes>"
      ]
     },
     "metadata": {},
     "output_type": "display_data"
    }
   ],
   "source": [
    "#gdp_2021[\"GDP_Per_Capita\"].hist()\n",
    "plt.hist(gdp_2021[\"GDP_Per_Capita\"], bins = 12)\n",
    "plt.show()\n"
   ]
  },
  {
   "cell_type": "markdown",
   "id": "57fb3f96",
   "metadata": {},
   "source": [
    "###  It seems like the shape is an exponential decay, with the majority of the results being around the 0-20,000 GPD range."
   ]
  },
  {
   "cell_type": "markdown",
   "id": "c29d5311",
   "metadata": {},
   "source": [
    "## #12"
   ]
  },
  {
   "cell_type": "code",
   "execution_count": 19,
   "id": "6ad1214b",
   "metadata": {},
   "outputs": [
    {
     "name": "stdout",
     "output_type": "stream",
     "text": [
      "                       Country  Year  GDP_Per_Capita\n",
      "4147                Luxembourg  2021   115683.493708\n",
      "6107                 Singapore  2021   107741.118436\n",
      "3278                   Ireland  2021   102785.490239\n",
      "5745                     Qatar  2021    92862.571798\n",
      "680                    Bermuda  2021    78570.489515\n",
      "...                        ...   ...             ...\n",
      "5073                     Niger  2021     1186.576809\n",
      "6272                   Somalia  2021     1136.735989\n",
      "1629           Dem. Rep. Congo  2021     1073.643271\n",
      "1216  Central African Republic  2021      837.504686\n",
      "972                    Burundi  2021      714.066712\n",
      "\n",
      "[241 rows x 3 columns]\n"
     ]
    }
   ],
   "source": [
    "gdp_2021_sorted = gdp_2021.sort_values('GDP_Per_Capita', ascending = False)\n",
    "print(gdp_2021_sorted)"
   ]
  },
  {
   "cell_type": "code",
   "execution_count": 20,
   "id": "00034972",
   "metadata": {},
   "outputs": [
    {
     "data": {
      "text/html": [
       "<div>\n",
       "<style scoped>\n",
       "    .dataframe tbody tr th:only-of-type {\n",
       "        vertical-align: middle;\n",
       "    }\n",
       "\n",
       "    .dataframe tbody tr th {\n",
       "        vertical-align: top;\n",
       "    }\n",
       "\n",
       "    .dataframe thead th {\n",
       "        text-align: right;\n",
       "    }\n",
       "</style>\n",
       "<table border=\"1\" class=\"dataframe\">\n",
       "  <thead>\n",
       "    <tr style=\"text-align: right;\">\n",
       "      <th></th>\n",
       "      <th>Country</th>\n",
       "      <th>Year</th>\n",
       "      <th>GDP_Per_Capita</th>\n",
       "    </tr>\n",
       "  </thead>\n",
       "  <tbody>\n",
       "    <tr>\n",
       "      <th>4147</th>\n",
       "      <td>Luxembourg</td>\n",
       "      <td>2021</td>\n",
       "      <td>115683.493708</td>\n",
       "    </tr>\n",
       "    <tr>\n",
       "      <th>6107</th>\n",
       "      <td>Singapore</td>\n",
       "      <td>2021</td>\n",
       "      <td>107741.118436</td>\n",
       "    </tr>\n",
       "    <tr>\n",
       "      <th>3278</th>\n",
       "      <td>Ireland</td>\n",
       "      <td>2021</td>\n",
       "      <td>102785.490239</td>\n",
       "    </tr>\n",
       "    <tr>\n",
       "      <th>5745</th>\n",
       "      <td>Qatar</td>\n",
       "      <td>2021</td>\n",
       "      <td>92862.571798</td>\n",
       "    </tr>\n",
       "    <tr>\n",
       "      <th>680</th>\n",
       "      <td>Bermuda</td>\n",
       "      <td>2021</td>\n",
       "      <td>78570.489515</td>\n",
       "    </tr>\n",
       "  </tbody>\n",
       "</table>\n",
       "</div>"
      ],
      "text/plain": [
       "         Country  Year  GDP_Per_Capita\n",
       "4147  Luxembourg  2021   115683.493708\n",
       "6107   Singapore  2021   107741.118436\n",
       "3278     Ireland  2021   102785.490239\n",
       "5745       Qatar  2021    92862.571798\n",
       "680      Bermuda  2021    78570.489515"
      ]
     },
     "execution_count": 20,
     "metadata": {},
     "output_type": "execute_result"
    }
   ],
   "source": [
    "gdp_2021_sorted.head(5)"
   ]
  },
  {
   "cell_type": "code",
   "execution_count": 21,
   "id": "fe9907e4",
   "metadata": {},
   "outputs": [
    {
     "data": {
      "text/html": [
       "<div>\n",
       "<style scoped>\n",
       "    .dataframe tbody tr th:only-of-type {\n",
       "        vertical-align: middle;\n",
       "    }\n",
       "\n",
       "    .dataframe tbody tr th {\n",
       "        vertical-align: top;\n",
       "    }\n",
       "\n",
       "    .dataframe thead th {\n",
       "        text-align: right;\n",
       "    }\n",
       "</style>\n",
       "<table border=\"1\" class=\"dataframe\">\n",
       "  <thead>\n",
       "    <tr style=\"text-align: right;\">\n",
       "      <th></th>\n",
       "      <th>Country</th>\n",
       "      <th>Year</th>\n",
       "      <th>GDP_Per_Capita</th>\n",
       "    </tr>\n",
       "  </thead>\n",
       "  <tbody>\n",
       "    <tr>\n",
       "      <th>5073</th>\n",
       "      <td>Niger</td>\n",
       "      <td>2021</td>\n",
       "      <td>1186.576809</td>\n",
       "    </tr>\n",
       "    <tr>\n",
       "      <th>6272</th>\n",
       "      <td>Somalia</td>\n",
       "      <td>2021</td>\n",
       "      <td>1136.735989</td>\n",
       "    </tr>\n",
       "    <tr>\n",
       "      <th>1629</th>\n",
       "      <td>Dem. Rep. Congo</td>\n",
       "      <td>2021</td>\n",
       "      <td>1073.643271</td>\n",
       "    </tr>\n",
       "    <tr>\n",
       "      <th>1216</th>\n",
       "      <td>Central African Republic</td>\n",
       "      <td>2021</td>\n",
       "      <td>837.504686</td>\n",
       "    </tr>\n",
       "    <tr>\n",
       "      <th>972</th>\n",
       "      <td>Burundi</td>\n",
       "      <td>2021</td>\n",
       "      <td>714.066712</td>\n",
       "    </tr>\n",
       "  </tbody>\n",
       "</table>\n",
       "</div>"
      ],
      "text/plain": [
       "                       Country  Year  GDP_Per_Capita\n",
       "5073                     Niger  2021     1186.576809\n",
       "6272                   Somalia  2021     1136.735989\n",
       "1629           Dem. Rep. Congo  2021     1073.643271\n",
       "1216  Central African Republic  2021      837.504686\n",
       "972                    Burundi  2021      714.066712"
      ]
     },
     "execution_count": 21,
     "metadata": {},
     "output_type": "execute_result"
    }
   ],
   "source": [
    "gdp_2021_sorted.tail(5)"
   ]
  },
  {
   "cell_type": "markdown",
   "id": "ccba85d5",
   "metadata": {},
   "source": [
    "## #13"
   ]
  },
  {
   "cell_type": "code",
   "execution_count": 22,
   "id": "1ff5d365",
   "metadata": {},
   "outputs": [],
   "source": [
    "gdp_pivoted = gdp_df[(gdp_df['Year'] == 2021) | (gdp_df['Year'] == 1990)].pivot_table(values = 'GDP_Per_Capita', index = 'Country', columns = 'Year')"
   ]
  },
  {
   "cell_type": "code",
   "execution_count": 23,
   "id": "886043e5",
   "metadata": {},
   "outputs": [
    {
     "name": "stdout",
     "output_type": "stream",
     "text": [
      "Year                                1990          2021\n",
      "Country                                               \n",
      "Afghanistan                          NaN   1517.016266\n",
      "Africa Eastern and Southern  3037.297466   3519.174840\n",
      "Africa Western and Central   2788.301039   4014.607965\n",
      "Albania                      4827.027705  14595.944386\n",
      "Algeria                      8828.874473  11029.138782\n",
      "...                                  ...           ...\n",
      "Viet Nam                     2099.394649  10628.219166\n",
      "West Bank and Gaza                   NaN   5641.044400\n",
      "World                        9705.981267  17055.357429\n",
      "Zambia                       2290.039226   3236.788981\n",
      "Zimbabwe                     2704.757299   2115.144555\n",
      "\n",
      "[242 rows x 2 columns]\n"
     ]
    }
   ],
   "source": [
    "print(gdp_pivoted)"
   ]
  },
  {
   "cell_type": "code",
   "execution_count": 24,
   "id": "0fe83c04",
   "metadata": {},
   "outputs": [
    {
     "name": "stdout",
     "output_type": "stream",
     "text": [
      "Year                                1990          2021\n",
      "Country                                               \n",
      "Africa Eastern and Southern  3037.297466   3519.174840\n",
      "Africa Western and Central   2788.301039   4014.607965\n",
      "Albania                      4827.027705  14595.944386\n",
      "Algeria                      8828.874473  11029.138782\n",
      "Angola                       5793.084512   5911.835657\n",
      "...                                  ...           ...\n",
      "Vanuatu                      2774.138350   2800.493866\n",
      "Viet Nam                     2099.394649  10628.219166\n",
      "World                        9705.981267  17055.357429\n",
      "Zambia                       2290.039226   3236.788981\n",
      "Zimbabwe                     2704.757299   2115.144555\n",
      "\n",
      "[206 rows x 2 columns]\n"
     ]
    }
   ],
   "source": [
    "gdp_pivoted = gdp_pivoted.dropna()\n",
    "print(gdp_pivoted)"
   ]
  },
  {
   "cell_type": "markdown",
   "id": "69c3a673",
   "metadata": {},
   "source": [
    "## #14"
   ]
  },
  {
   "cell_type": "code",
   "execution_count": 25,
   "id": "9b8e8b05",
   "metadata": {},
   "outputs": [],
   "source": [
    "gdp_pivoted['Percent_Change'] = (100*(gdp_pivoted[2021]-gdp_pivoted[1990]))/gdp_pivoted[1990]"
   ]
  },
  {
   "cell_type": "code",
   "execution_count": 26,
   "id": "b66a77c3",
   "metadata": {},
   "outputs": [
    {
     "name": "stdout",
     "output_type": "stream",
     "text": [
      "Year                                1990          2021  Percent_Change\n",
      "Country                                                               \n",
      "Africa Eastern and Southern  3037.297466   3519.174840       15.865334\n",
      "Africa Western and Central   2788.301039   4014.607965       43.980435\n",
      "Albania                      4827.027705  14595.944386      202.379544\n",
      "Algeria                      8828.874473  11029.138782       24.921232\n",
      "Angola                       5793.084512   5911.835657        2.049878\n",
      "...                                  ...           ...             ...\n",
      "Vanuatu                      2774.138350   2800.493866        0.950043\n",
      "Viet Nam                     2099.394649  10628.219166      406.251608\n",
      "World                        9705.981267  17055.357429       75.720074\n",
      "Zambia                       2290.039226   3236.788981       41.342076\n",
      "Zimbabwe                     2704.757299   2115.144555      -21.799100\n",
      "\n",
      "[206 rows x 3 columns]\n"
     ]
    }
   ],
   "source": [
    "print(gdp_pivoted)"
   ]
  },
  {
   "cell_type": "markdown",
   "id": "43ced43a",
   "metadata": {},
   "source": [
    "## #15"
   ]
  },
  {
   "cell_type": "code",
   "execution_count": 27,
   "id": "b32df64e",
   "metadata": {},
   "outputs": [
    {
     "name": "stdout",
     "output_type": "stream",
     "text": [
      "Year\n",
      "1990              19\n",
      "2021              19\n",
      "Percent_Change    19\n",
      "dtype: int64\n"
     ]
    }
   ],
   "source": [
    "test = gdp_pivoted[gdp_pivoted[\"Percent_Change\"] < 0].count()\n",
    "print(test)"
   ]
  },
  {
   "cell_type": "markdown",
   "id": "4256080d",
   "metadata": {},
   "source": [
    "### 19 countries experienced a negative percent change between 1990 and 2021."
   ]
  },
  {
   "cell_type": "markdown",
   "id": "9a968e82",
   "metadata": {},
   "source": [
    "## #16"
   ]
  },
  {
   "cell_type": "code",
   "execution_count": 28,
   "id": "a43c6c0a",
   "metadata": {},
   "outputs": [
    {
     "data": {
      "text/html": [
       "<div>\n",
       "<style scoped>\n",
       "    .dataframe tbody tr th:only-of-type {\n",
       "        vertical-align: middle;\n",
       "    }\n",
       "\n",
       "    .dataframe tbody tr th {\n",
       "        vertical-align: top;\n",
       "    }\n",
       "\n",
       "    .dataframe thead th {\n",
       "        text-align: right;\n",
       "    }\n",
       "</style>\n",
       "<table border=\"1\" class=\"dataframe\">\n",
       "  <thead>\n",
       "    <tr style=\"text-align: right;\">\n",
       "      <th>Year</th>\n",
       "      <th>1990</th>\n",
       "      <th>2021</th>\n",
       "      <th>Percent_Change</th>\n",
       "    </tr>\n",
       "    <tr>\n",
       "      <th>Country</th>\n",
       "      <th></th>\n",
       "      <th></th>\n",
       "      <th></th>\n",
       "    </tr>\n",
       "  </thead>\n",
       "  <tbody>\n",
       "    <tr>\n",
       "      <th>Equatorial Guinea</th>\n",
       "      <td>936.419751</td>\n",
       "      <td>14637.007350</td>\n",
       "      <td>1463.081870</td>\n",
       "    </tr>\n",
       "    <tr>\n",
       "      <th>China</th>\n",
       "      <td>1423.896348</td>\n",
       "      <td>17657.495181</td>\n",
       "      <td>1140.082904</td>\n",
       "    </tr>\n",
       "    <tr>\n",
       "      <th>East Asia &amp; Pacific (excluding high income)</th>\n",
       "      <td>2191.972060</td>\n",
       "      <td>15415.447708</td>\n",
       "      <td>603.268440</td>\n",
       "    </tr>\n",
       "    <tr>\n",
       "      <th>East Asia &amp; Pacific (IDA &amp; IBRD)</th>\n",
       "      <td>2218.031627</td>\n",
       "      <td>15586.699395</td>\n",
       "      <td>602.726652</td>\n",
       "    </tr>\n",
       "    <tr>\n",
       "      <th>Myanmar</th>\n",
       "      <td>581.613311</td>\n",
       "      <td>4032.625653</td>\n",
       "      <td>593.351678</td>\n",
       "    </tr>\n",
       "    <tr>\n",
       "      <th>...</th>\n",
       "      <td>...</td>\n",
       "      <td>...</td>\n",
       "      <td>...</td>\n",
       "    </tr>\n",
       "    <tr>\n",
       "      <th>Central African Republic</th>\n",
       "      <td>1200.613390</td>\n",
       "      <td>837.504686</td>\n",
       "      <td>-30.243599</td>\n",
       "    </tr>\n",
       "    <tr>\n",
       "      <th>United Arab Emirates</th>\n",
       "      <td>105893.626059</td>\n",
       "      <td>69733.793774</td>\n",
       "      <td>-34.147317</td>\n",
       "    </tr>\n",
       "    <tr>\n",
       "      <th>Congo</th>\n",
       "      <td>5007.319245</td>\n",
       "      <td>3234.392972</td>\n",
       "      <td>-35.406695</td>\n",
       "    </tr>\n",
       "    <tr>\n",
       "      <th>Dem. Rep. Congo</th>\n",
       "      <td>1750.169739</td>\n",
       "      <td>1073.643271</td>\n",
       "      <td>-38.654906</td>\n",
       "    </tr>\n",
       "    <tr>\n",
       "      <th>Burundi</th>\n",
       "      <td>1175.155086</td>\n",
       "      <td>714.066712</td>\n",
       "      <td>-39.236385</td>\n",
       "    </tr>\n",
       "  </tbody>\n",
       "</table>\n",
       "<p>206 rows × 3 columns</p>\n",
       "</div>"
      ],
      "text/plain": [
       "Year                                                  1990          2021  \\\n",
       "Country                                                                    \n",
       "Equatorial Guinea                               936.419751  14637.007350   \n",
       "China                                          1423.896348  17657.495181   \n",
       "East Asia & Pacific (excluding high income)    2191.972060  15415.447708   \n",
       "East Asia & Pacific (IDA & IBRD)               2218.031627  15586.699395   \n",
       "Myanmar                                         581.613311   4032.625653   \n",
       "...                                                    ...           ...   \n",
       "Central African Republic                       1200.613390    837.504686   \n",
       "United Arab Emirates                         105893.626059  69733.793774   \n",
       "Congo                                          5007.319245   3234.392972   \n",
       "Dem. Rep. Congo                                1750.169739   1073.643271   \n",
       "Burundi                                        1175.155086    714.066712   \n",
       "\n",
       "Year                                         Percent_Change  \n",
       "Country                                                      \n",
       "Equatorial Guinea                               1463.081870  \n",
       "China                                           1140.082904  \n",
       "East Asia & Pacific (excluding high income)      603.268440  \n",
       "East Asia & Pacific (IDA & IBRD)                 602.726652  \n",
       "Myanmar                                          593.351678  \n",
       "...                                                     ...  \n",
       "Central African Republic                         -30.243599  \n",
       "United Arab Emirates                             -34.147317  \n",
       "Congo                                            -35.406695  \n",
       "Dem. Rep. Congo                                  -38.654906  \n",
       "Burundi                                          -39.236385  \n",
       "\n",
       "[206 rows x 3 columns]"
      ]
     },
     "execution_count": 28,
     "metadata": {},
     "output_type": "execute_result"
    }
   ],
   "source": [
    "gdp_pivoted.sort_values('Percent_Change',ascending = False)\n"
   ]
  },
  {
   "cell_type": "code",
   "execution_count": 29,
   "id": "651b194e",
   "metadata": {},
   "outputs": [
    {
     "name": "stdout",
     "output_type": "stream",
     "text": [
      "          Country  Year  GDP_Per_Capita\n",
      "0     Afghanistan  2021     1517.016266\n",
      "1     Afghanistan  2020     1968.341002\n",
      "2     Afghanistan  2019     2079.921861\n",
      "3     Afghanistan  2018     2060.698973\n",
      "4     Afghanistan  2017     2096.093111\n",
      "...           ...   ...             ...\n",
      "7657     Zimbabwe  1994     2670.106615\n",
      "7658     Zimbabwe  1993     2458.783255\n",
      "7659     Zimbabwe  1992     2468.278257\n",
      "7660     Zimbabwe  1991     2781.787843\n",
      "7661     Zimbabwe  1990     2704.757299\n",
      "\n",
      "[7662 rows x 3 columns]\n"
     ]
    }
   ],
   "source": [
    "print(gdp_df)\n"
   ]
  },
  {
   "cell_type": "code",
   "execution_count": 30,
   "id": "0208a317",
   "metadata": {},
   "outputs": [
    {
     "data": {
      "image/png": "[encoded data removed]",
      "text/plain": [
       "<Figure size 640x480 with 1 Axes>"
      ]
     },
     "metadata": {},
     "output_type": "display_data"
    }
   ],
   "source": [
    "gdp_graph_equatorial = gdp_df[gdp_df[\"Country\"] == \"Equatorial Guinea\"]\n",
    "plt.plot(gdp_graph_equatorial['Year'],gdp_graph_equatorial['GDP_Per_Capita'])\n",
    "plt.show()"
   ]
  },
  {
   "cell_type": "code",
   "execution_count": 31,
   "id": "01e6fa59",
   "metadata": {},
   "outputs": [
    {
     "data": {
      "image/png": "[encoded data removed]",
      "text/plain": [
       "<Figure size 640x480 with 1 Axes>"
      ]
     },
     "metadata": {},
     "output_type": "display_data"
    }
   ],
   "source": [
    "gdp_graph_china = gdp_df[gdp_df[\"Country\"] == \"China\"]\n",
    "plt.plot(gdp_graph_china['Year'],gdp_graph_china['GDP_Per_Capita'])\n",
    "plt.show()"
   ]
  },
  {
   "cell_type": "markdown",
   "id": "fdf25e53",
   "metadata": {},
   "source": [
    "### The trends take a different path to growth, as china was always going up, while Equatorial Guinea reached a much larger maximum, but went down for some of the time. "
   ]
  },
  {
   "cell_type": "code",
   "execution_count": 32,
   "id": "f2d4fa13",
   "metadata": {},
   "outputs": [
    {
     "data": {
      "image/png": "[encoded data removed]",
      "text/plain": [
       "<Figure size 640x480 with 1 Axes>"
      ]
     },
     "metadata": {},
     "output_type": "display_data"
    }
   ],
   "source": [
    "plt.plot(gdp_graph_equatorial['Year'],gdp_graph_equatorial['GDP_Per_Capita'])\n",
    "plt.plot(gdp_graph_china['Year'],gdp_graph_china['GDP_Per_Capita'])\n",
    "plt.show()\n"
   ]
  },
  {
   "cell_type": "markdown",
   "id": "18da0475",
   "metadata": {},
   "source": [
    "## #17"
   ]
  },
  {
   "cell_type": "code",
   "execution_count": 33,
   "id": "680c1abb",
   "metadata": {},
   "outputs": [],
   "source": [
    "continents = pd.read_csv(\"../data/continents.csv\")"
   ]
  },
  {
   "cell_type": "code",
   "execution_count": 34,
   "id": "170dd51f",
   "metadata": {},
   "outputs": [
    {
     "name": "stdout",
     "output_type": "stream",
     "text": [
      "    Continent             Country\n",
      "0        Asia         Afghanistan\n",
      "1      Europe             Albania\n",
      "2      Africa             Algeria\n",
      "3      Europe             Andorra\n",
      "4      Africa              Angola\n",
      "..        ...                 ...\n",
      "211      Asia             Vietnam\n",
      "212      Asia  West Bank and Gaza\n",
      "213      Asia               Yemen\n",
      "214    Africa              Zambia\n",
      "215    Africa            Zimbabwe\n",
      "\n",
      "[216 rows x 2 columns]\n"
     ]
    }
   ],
   "source": [
    "print(continents)"
   ]
  },
  {
   "cell_type": "markdown",
   "id": "90c15a22",
   "metadata": {},
   "source": [
    "## #18"
   ]
  },
  {
   "cell_type": "code",
   "execution_count": 35,
   "id": "32265d0d",
   "metadata": {
    "scrolled": true
   },
   "outputs": [
    {
     "name": "stdout",
     "output_type": "stream",
     "text": [
      "          Country  Year  GDP_Per_Capita Continent\n",
      "0     Afghanistan  2021     1517.016266      Asia\n",
      "1     Afghanistan  2020     1968.341002      Asia\n",
      "2     Afghanistan  2019     2079.921861      Asia\n",
      "3     Afghanistan  2018     2060.698973      Asia\n",
      "4     Afghanistan  2017     2096.093111      Asia\n",
      "...           ...   ...             ...       ...\n",
      "5888     Zimbabwe  1994     2670.106615    Africa\n",
      "5889     Zimbabwe  1993     2458.783255    Africa\n",
      "5890     Zimbabwe  1992     2468.278257    Africa\n",
      "5891     Zimbabwe  1991     2781.787843    Africa\n",
      "5892     Zimbabwe  1990     2704.757299    Africa\n",
      "\n",
      "[5893 rows x 4 columns]\n"
     ]
    }
   ],
   "source": [
    "\n",
    "gdp_df = gdp_df.merge(continents)\n",
    "print(gdp_df)"
   ]
  },
  {
   "cell_type": "code",
   "execution_count": 36,
   "id": "169217f6",
   "metadata": {},
   "outputs": [
    {
     "data": {
      "text/plain": [
       "(array([], dtype=int64), array([], dtype=int64))"
      ]
     },
     "execution_count": 36,
     "metadata": {},
     "output_type": "execute_result"
    }
   ],
   "source": [
    "np.where(gdp_df.isnull())"
   ]
  },
  {
   "cell_type": "markdown",
   "id": "d1e7f7ad",
   "metadata": {},
   "source": [
    "### I believe this is saying that there are no places where the continent doesn't have a country, or vice versa."
   ]
  },
  {
   "cell_type": "markdown",
   "id": "69b8e192",
   "metadata": {},
   "source": [
    "## #19"
   ]
  },
  {
   "cell_type": "code",
   "execution_count": 37,
   "id": "b17df6ce",
   "metadata": {},
   "outputs": [
    {
     "name": "stdout",
     "output_type": "stream",
     "text": [
      "       Continent  count\n",
      "0         Africa     50\n",
      "1         Europe     44\n",
      "2           Asia     41\n",
      "3  North America     26\n",
      "4        Oceania     14\n",
      "5  South America     11\n"
     ]
    }
   ],
   "source": [
    "gdp_drop = gdp_df.drop_duplicates(\"Country\")\n",
    "gdp_drop['Continent'].value_counts()\n",
    "gdp_drop_df = pd.DataFrame(gdp_drop['Continent'].value_counts()).reset_index()\n",
    "print(gdp_drop_df)"
   ]
  },
  {
   "cell_type": "code",
   "execution_count": 38,
   "id": "2d646041",
   "metadata": {},
   "outputs": [
    {
     "data": {
      "text/plain": [
       "<BarContainer object of 6 artists>"
      ]
     },
     "execution_count": 38,
     "metadata": {},
     "output_type": "execute_result"
    },
    {
     "data": {
      "image/png": "[encoded data removed]",
      "text/plain": [
       "<Figure size 640x480 with 1 Axes>"
      ]
     },
     "metadata": {},
     "output_type": "display_data"
    }
   ],
   "source": [
    "plt.bar(gdp_drop_df[\"Continent\"],gdp_drop_df[\"count\"])"
   ]
  },
  {
   "cell_type": "markdown",
   "id": "134b3c41",
   "metadata": {},
   "source": [
    "gdp_df.groupby(\"Continent\").nunique()['Country']       This is another similar easy way to do it. \n"
   ]
  },
  {
   "cell_type": "markdown",
   "id": "bc7dbc64",
   "metadata": {},
   "source": [
    "## #20"
   ]
  },
  {
   "cell_type": "code",
   "execution_count": 39,
   "id": "60b640a2",
   "metadata": {},
   "outputs": [],
   "source": [
    "gdp_df_2021 = gdp_df[gdp_df[\"Year\"] == 2021]\n"
   ]
  },
  {
   "cell_type": "code",
   "execution_count": 40,
   "id": "b55ee65b",
   "metadata": {},
   "outputs": [
    {
     "data": {
      "text/html": [
       "<div>\n",
       "<style scoped>\n",
       "    .dataframe tbody tr th:only-of-type {\n",
       "        vertical-align: middle;\n",
       "    }\n",
       "\n",
       "    .dataframe tbody tr th {\n",
       "        vertical-align: top;\n",
       "    }\n",
       "\n",
       "    .dataframe thead th {\n",
       "        text-align: right;\n",
       "    }\n",
       "</style>\n",
       "<table border=\"1\" class=\"dataframe\">\n",
       "  <thead>\n",
       "    <tr style=\"text-align: right;\">\n",
       "      <th></th>\n",
       "      <th>Continent</th>\n",
       "      <th>GDP_Per_Capita</th>\n",
       "    </tr>\n",
       "  </thead>\n",
       "  <tbody>\n",
       "    <tr>\n",
       "      <th>0</th>\n",
       "      <td>Asia</td>\n",
       "      <td>1517.016266</td>\n",
       "    </tr>\n",
       "    <tr>\n",
       "      <th>21</th>\n",
       "      <td>Europe</td>\n",
       "      <td>14595.944386</td>\n",
       "    </tr>\n",
       "    <tr>\n",
       "      <th>54</th>\n",
       "      <td>Africa</td>\n",
       "      <td>11029.138782</td>\n",
       "    </tr>\n",
       "    <tr>\n",
       "      <th>87</th>\n",
       "      <td>Africa</td>\n",
       "      <td>5911.835657</td>\n",
       "    </tr>\n",
       "    <tr>\n",
       "      <th>120</th>\n",
       "      <td>North America</td>\n",
       "      <td>19899.882425</td>\n",
       "    </tr>\n",
       "    <tr>\n",
       "      <th>...</th>\n",
       "      <td>...</td>\n",
       "      <td>...</td>\n",
       "    </tr>\n",
       "    <tr>\n",
       "      <th>5733</th>\n",
       "      <td>Asia</td>\n",
       "      <td>7800.501501</td>\n",
       "    </tr>\n",
       "    <tr>\n",
       "      <th>5766</th>\n",
       "      <td>Oceania</td>\n",
       "      <td>2800.493866</td>\n",
       "    </tr>\n",
       "    <tr>\n",
       "      <th>5799</th>\n",
       "      <td>Asia</td>\n",
       "      <td>5641.044400</td>\n",
       "    </tr>\n",
       "    <tr>\n",
       "      <th>5828</th>\n",
       "      <td>Africa</td>\n",
       "      <td>3236.788981</td>\n",
       "    </tr>\n",
       "    <tr>\n",
       "      <th>5861</th>\n",
       "      <td>Africa</td>\n",
       "      <td>2115.144555</td>\n",
       "    </tr>\n",
       "  </tbody>\n",
       "</table>\n",
       "<p>185 rows × 2 columns</p>\n",
       "</div>"
      ],
      "text/plain": [
       "          Continent  GDP_Per_Capita\n",
       "0              Asia     1517.016266\n",
       "21           Europe    14595.944386\n",
       "54           Africa    11029.138782\n",
       "87           Africa     5911.835657\n",
       "120   North America    19899.882425\n",
       "...             ...             ...\n",
       "5733           Asia     7800.501501\n",
       "5766        Oceania     2800.493866\n",
       "5799           Asia     5641.044400\n",
       "5828         Africa     3236.788981\n",
       "5861         Africa     2115.144555\n",
       "\n",
       "[185 rows x 2 columns]"
      ]
     },
     "execution_count": 40,
     "metadata": {},
     "output_type": "execute_result"
    }
   ],
   "source": [
    "gdp_df_2021[['Continent','GDP_Per_Capita']]"
   ]
  },
  {
   "cell_type": "code",
   "execution_count": 41,
   "id": "225acd04",
   "metadata": {},
   "outputs": [
    {
     "data": {
      "text/plain": [
       "<Axes: xlabel='Continent', ylabel='GDP_Per_Capita'>"
      ]
     },
     "execution_count": 41,
     "metadata": {},
     "output_type": "execute_result"
    },
    {
     "data": {
      "image/png": "[encoded data removed]",
      "text/plain": [
       "<Figure size 640x480 with 1 Axes>"
      ]
     },
     "metadata": {},
     "output_type": "display_data"
    }
   ],
   "source": [
    "sns.boxplot(x = gdp_df_2021[\"Continent\"], y = gdp_df_2021[\"GDP_Per_Capita\"])"
   ]
  },
  {
   "cell_type": "markdown",
   "id": "e88ca850",
   "metadata": {},
   "source": [
    "###   I notice that asia seems to have the widest range excluding outliers (and maybe including). Africa has the lowest range, and the lowest mean followed by oceania."
   ]
  },
  {
   "cell_type": "markdown",
   "id": "823efc73",
   "metadata": {},
   "source": [
    "## #21"
   ]
  },
  {
   "cell_type": "code",
   "execution_count": 42,
   "id": "96f9f03b",
   "metadata": {
    "scrolled": true
   },
   "outputs": [
    {
     "data": {
      "text/html": [
       "<div>\n",
       "<style scoped>\n",
       "    .dataframe tbody tr th:only-of-type {\n",
       "        vertical-align: middle;\n",
       "    }\n",
       "\n",
       "    .dataframe tbody tr th {\n",
       "        vertical-align: top;\n",
       "    }\n",
       "\n",
       "    .dataframe thead th {\n",
       "        text-align: right;\n",
       "    }\n",
       "</style>\n",
       "<table border=\"1\" class=\"dataframe\">\n",
       "  <thead>\n",
       "    <tr style=\"text-align: right;\">\n",
       "      <th></th>\n",
       "      <th>Country Name</th>\n",
       "      <th>Country Code</th>\n",
       "      <th>Indicator Name</th>\n",
       "      <th>Indicator Code</th>\n",
       "      <th>1960</th>\n",
       "      <th>1961</th>\n",
       "      <th>1962</th>\n",
       "      <th>1963</th>\n",
       "      <th>1964</th>\n",
       "      <th>1965</th>\n",
       "      <th>...</th>\n",
       "      <th>2015</th>\n",
       "      <th>2016</th>\n",
       "      <th>2017</th>\n",
       "      <th>2018</th>\n",
       "      <th>2019</th>\n",
       "      <th>2020</th>\n",
       "      <th>2021</th>\n",
       "      <th>2022</th>\n",
       "      <th>2023</th>\n",
       "      <th>Unnamed: 68</th>\n",
       "    </tr>\n",
       "  </thead>\n",
       "  <tbody>\n",
       "    <tr>\n",
       "      <th>0</th>\n",
       "      <td>Aruba</td>\n",
       "      <td>ABW</td>\n",
       "      <td>Life expectancy at birth, total (years)</td>\n",
       "      <td>SP.DYN.LE00.IN</td>\n",
       "      <td>64.152000</td>\n",
       "      <td>64.537000</td>\n",
       "      <td>64.752000</td>\n",
       "      <td>65.132000</td>\n",
       "      <td>65.294000</td>\n",
       "      <td>65.502000</td>\n",
       "      <td>...</td>\n",
       "      <td>75.683000</td>\n",
       "      <td>75.617000</td>\n",
       "      <td>75.903000</td>\n",
       "      <td>76.072000</td>\n",
       "      <td>76.248000</td>\n",
       "      <td>75.723000</td>\n",
       "      <td>74.626000</td>\n",
       "      <td>74.992000</td>\n",
       "      <td>NaN</td>\n",
       "      <td>NaN</td>\n",
       "    </tr>\n",
       "    <tr>\n",
       "      <th>1</th>\n",
       "      <td>Africa Eastern and Southern</td>\n",
       "      <td>AFE</td>\n",
       "      <td>Life expectancy at birth, total (years)</td>\n",
       "      <td>SP.DYN.LE00.IN</td>\n",
       "      <td>44.085552</td>\n",
       "      <td>44.386697</td>\n",
       "      <td>44.752182</td>\n",
       "      <td>44.913159</td>\n",
       "      <td>45.479043</td>\n",
       "      <td>45.498338</td>\n",
       "      <td>...</td>\n",
       "      <td>61.856458</td>\n",
       "      <td>62.444050</td>\n",
       "      <td>62.922390</td>\n",
       "      <td>63.365863</td>\n",
       "      <td>63.755678</td>\n",
       "      <td>63.313860</td>\n",
       "      <td>62.454590</td>\n",
       "      <td>62.899031</td>\n",
       "      <td>NaN</td>\n",
       "      <td>NaN</td>\n",
       "    </tr>\n",
       "    <tr>\n",
       "      <th>2</th>\n",
       "      <td>Afghanistan</td>\n",
       "      <td>AFG</td>\n",
       "      <td>Life expectancy at birth, total (years)</td>\n",
       "      <td>SP.DYN.LE00.IN</td>\n",
       "      <td>32.535000</td>\n",
       "      <td>33.068000</td>\n",
       "      <td>33.547000</td>\n",
       "      <td>34.016000</td>\n",
       "      <td>34.494000</td>\n",
       "      <td>34.953000</td>\n",
       "      <td>...</td>\n",
       "      <td>62.659000</td>\n",
       "      <td>63.136000</td>\n",
       "      <td>63.016000</td>\n",
       "      <td>63.081000</td>\n",
       "      <td>63.565000</td>\n",
       "      <td>62.575000</td>\n",
       "      <td>61.982000</td>\n",
       "      <td>62.879000</td>\n",
       "      <td>NaN</td>\n",
       "      <td>NaN</td>\n",
       "    </tr>\n",
       "    <tr>\n",
       "      <th>3</th>\n",
       "      <td>Africa Western and Central</td>\n",
       "      <td>AFW</td>\n",
       "      <td>Life expectancy at birth, total (years)</td>\n",
       "      <td>SP.DYN.LE00.IN</td>\n",
       "      <td>37.845152</td>\n",
       "      <td>38.164950</td>\n",
       "      <td>38.735102</td>\n",
       "      <td>39.063715</td>\n",
       "      <td>39.335360</td>\n",
       "      <td>39.618038</td>\n",
       "      <td>...</td>\n",
       "      <td>56.195872</td>\n",
       "      <td>56.581678</td>\n",
       "      <td>56.888446</td>\n",
       "      <td>57.189139</td>\n",
       "      <td>57.555796</td>\n",
       "      <td>57.226373</td>\n",
       "      <td>56.988657</td>\n",
       "      <td>57.626176</td>\n",
       "      <td>NaN</td>\n",
       "      <td>NaN</td>\n",
       "    </tr>\n",
       "    <tr>\n",
       "      <th>4</th>\n",
       "      <td>Angola</td>\n",
       "      <td>AGO</td>\n",
       "      <td>Life expectancy at birth, total (years)</td>\n",
       "      <td>SP.DYN.LE00.IN</td>\n",
       "      <td>38.211000</td>\n",
       "      <td>37.267000</td>\n",
       "      <td>37.539000</td>\n",
       "      <td>37.824000</td>\n",
       "      <td>38.131000</td>\n",
       "      <td>38.495000</td>\n",
       "      <td>...</td>\n",
       "      <td>60.655000</td>\n",
       "      <td>61.092000</td>\n",
       "      <td>61.680000</td>\n",
       "      <td>62.144000</td>\n",
       "      <td>62.448000</td>\n",
       "      <td>62.261000</td>\n",
       "      <td>61.643000</td>\n",
       "      <td>61.929000</td>\n",
       "      <td>NaN</td>\n",
       "      <td>NaN</td>\n",
       "    </tr>\n",
       "    <tr>\n",
       "      <th>...</th>\n",
       "      <td>...</td>\n",
       "      <td>...</td>\n",
       "      <td>...</td>\n",
       "      <td>...</td>\n",
       "      <td>...</td>\n",
       "      <td>...</td>\n",
       "      <td>...</td>\n",
       "      <td>...</td>\n",
       "      <td>...</td>\n",
       "      <td>...</td>\n",
       "      <td>...</td>\n",
       "      <td>...</td>\n",
       "      <td>...</td>\n",
       "      <td>...</td>\n",
       "      <td>...</td>\n",
       "      <td>...</td>\n",
       "      <td>...</td>\n",
       "      <td>...</td>\n",
       "      <td>...</td>\n",
       "      <td>...</td>\n",
       "      <td>...</td>\n",
       "    </tr>\n",
       "    <tr>\n",
       "      <th>261</th>\n",
       "      <td>Kosovo</td>\n",
       "      <td>XKX</td>\n",
       "      <td>Life expectancy at birth, total (years)</td>\n",
       "      <td>SP.DYN.LE00.IN</td>\n",
       "      <td>61.485000</td>\n",
       "      <td>61.836000</td>\n",
       "      <td>62.134000</td>\n",
       "      <td>62.440000</td>\n",
       "      <td>62.734000</td>\n",
       "      <td>63.041000</td>\n",
       "      <td>...</td>\n",
       "      <td>78.922000</td>\n",
       "      <td>78.981000</td>\n",
       "      <td>78.783000</td>\n",
       "      <td>78.696000</td>\n",
       "      <td>79.022000</td>\n",
       "      <td>76.567000</td>\n",
       "      <td>76.806000</td>\n",
       "      <td>79.524000</td>\n",
       "      <td>NaN</td>\n",
       "      <td>NaN</td>\n",
       "    </tr>\n",
       "    <tr>\n",
       "      <th>262</th>\n",
       "      <td>Yemen, Rep.</td>\n",
       "      <td>YEM</td>\n",
       "      <td>Life expectancy at birth, total (years)</td>\n",
       "      <td>SP.DYN.LE00.IN</td>\n",
       "      <td>33.678000</td>\n",
       "      <td>34.098000</td>\n",
       "      <td>33.615000</td>\n",
       "      <td>33.247000</td>\n",
       "      <td>34.738000</td>\n",
       "      <td>35.373000</td>\n",
       "      <td>...</td>\n",
       "      <td>65.873000</td>\n",
       "      <td>66.064000</td>\n",
       "      <td>65.957000</td>\n",
       "      <td>64.575000</td>\n",
       "      <td>65.092000</td>\n",
       "      <td>64.650000</td>\n",
       "      <td>63.753000</td>\n",
       "      <td>63.720000</td>\n",
       "      <td>NaN</td>\n",
       "      <td>NaN</td>\n",
       "    </tr>\n",
       "    <tr>\n",
       "      <th>263</th>\n",
       "      <td>South Africa</td>\n",
       "      <td>ZAF</td>\n",
       "      <td>Life expectancy at birth, total (years)</td>\n",
       "      <td>SP.DYN.LE00.IN</td>\n",
       "      <td>52.669000</td>\n",
       "      <td>53.085000</td>\n",
       "      <td>53.376000</td>\n",
       "      <td>53.633000</td>\n",
       "      <td>53.906000</td>\n",
       "      <td>54.192000</td>\n",
       "      <td>...</td>\n",
       "      <td>63.950000</td>\n",
       "      <td>64.747000</td>\n",
       "      <td>65.402000</td>\n",
       "      <td>65.674000</td>\n",
       "      <td>66.175000</td>\n",
       "      <td>65.252000</td>\n",
       "      <td>62.341000</td>\n",
       "      <td>61.480000</td>\n",
       "      <td>NaN</td>\n",
       "      <td>NaN</td>\n",
       "    </tr>\n",
       "    <tr>\n",
       "      <th>264</th>\n",
       "      <td>Zambia</td>\n",
       "      <td>ZMB</td>\n",
       "      <td>Life expectancy at birth, total (years)</td>\n",
       "      <td>SP.DYN.LE00.IN</td>\n",
       "      <td>49.042000</td>\n",
       "      <td>49.452000</td>\n",
       "      <td>49.794000</td>\n",
       "      <td>50.133000</td>\n",
       "      <td>49.849000</td>\n",
       "      <td>50.563000</td>\n",
       "      <td>...</td>\n",
       "      <td>61.208000</td>\n",
       "      <td>61.794000</td>\n",
       "      <td>62.120000</td>\n",
       "      <td>62.342000</td>\n",
       "      <td>62.793000</td>\n",
       "      <td>62.380000</td>\n",
       "      <td>61.223000</td>\n",
       "      <td>61.803000</td>\n",
       "      <td>NaN</td>\n",
       "      <td>NaN</td>\n",
       "    </tr>\n",
       "    <tr>\n",
       "      <th>265</th>\n",
       "      <td>Zimbabwe</td>\n",
       "      <td>ZWE</td>\n",
       "      <td>Life expectancy at birth, total (years)</td>\n",
       "      <td>SP.DYN.LE00.IN</td>\n",
       "      <td>53.235000</td>\n",
       "      <td>53.619000</td>\n",
       "      <td>54.071000</td>\n",
       "      <td>54.549000</td>\n",
       "      <td>54.994000</td>\n",
       "      <td>55.459000</td>\n",
       "      <td>...</td>\n",
       "      <td>59.591000</td>\n",
       "      <td>60.306000</td>\n",
       "      <td>60.709000</td>\n",
       "      <td>61.414000</td>\n",
       "      <td>61.292000</td>\n",
       "      <td>61.124000</td>\n",
       "      <td>59.253000</td>\n",
       "      <td>59.391000</td>\n",
       "      <td>NaN</td>\n",
       "      <td>NaN</td>\n",
       "    </tr>\n",
       "  </tbody>\n",
       "</table>\n",
       "<p>266 rows × 69 columns</p>\n",
       "</div>"
      ],
      "text/plain": [
       "                    Country Name Country Code  \\\n",
       "0                          Aruba          ABW   \n",
       "1    Africa Eastern and Southern          AFE   \n",
       "2                    Afghanistan          AFG   \n",
       "3     Africa Western and Central          AFW   \n",
       "4                         Angola          AGO   \n",
       "..                           ...          ...   \n",
       "261                       Kosovo          XKX   \n",
       "262                  Yemen, Rep.          YEM   \n",
       "263                 South Africa          ZAF   \n",
       "264                       Zambia          ZMB   \n",
       "265                     Zimbabwe          ZWE   \n",
       "\n",
       "                              Indicator Name  Indicator Code       1960  \\\n",
       "0    Life expectancy at birth, total (years)  SP.DYN.LE00.IN  64.152000   \n",
       "1    Life expectancy at birth, total (years)  SP.DYN.LE00.IN  44.085552   \n",
       "2    Life expectancy at birth, total (years)  SP.DYN.LE00.IN  32.535000   \n",
       "3    Life expectancy at birth, total (years)  SP.DYN.LE00.IN  37.845152   \n",
       "4    Life expectancy at birth, total (years)  SP.DYN.LE00.IN  38.211000   \n",
       "..                                       ...             ...        ...   \n",
       "261  Life expectancy at birth, total (years)  SP.DYN.LE00.IN  61.485000   \n",
       "262  Life expectancy at birth, total (years)  SP.DYN.LE00.IN  33.678000   \n",
       "263  Life expectancy at birth, total (years)  SP.DYN.LE00.IN  52.669000   \n",
       "264  Life expectancy at birth, total (years)  SP.DYN.LE00.IN  49.042000   \n",
       "265  Life expectancy at birth, total (years)  SP.DYN.LE00.IN  53.235000   \n",
       "\n",
       "          1961       1962       1963       1964       1965  ...       2015  \\\n",
       "0    64.537000  64.752000  65.132000  65.294000  65.502000  ...  75.683000   \n",
       "1    44.386697  44.752182  44.913159  45.479043  45.498338  ...  61.856458   \n",
       "2    33.068000  33.547000  34.016000  34.494000  34.953000  ...  62.659000   \n",
       "3    38.164950  38.735102  39.063715  39.335360  39.618038  ...  56.195872   \n",
       "4    37.267000  37.539000  37.824000  38.131000  38.495000  ...  60.655000   \n",
       "..         ...        ...        ...        ...        ...  ...        ...   \n",
       "261  61.836000  62.134000  62.440000  62.734000  63.041000  ...  78.922000   \n",
       "262  34.098000  33.615000  33.247000  34.738000  35.373000  ...  65.873000   \n",
       "263  53.085000  53.376000  53.633000  53.906000  54.192000  ...  63.950000   \n",
       "264  49.452000  49.794000  50.133000  49.849000  50.563000  ...  61.208000   \n",
       "265  53.619000  54.071000  54.549000  54.994000  55.459000  ...  59.591000   \n",
       "\n",
       "          2016       2017       2018       2019       2020       2021  \\\n",
       "0    75.617000  75.903000  76.072000  76.248000  75.723000  74.626000   \n",
       "1    62.444050  62.922390  63.365863  63.755678  63.313860  62.454590   \n",
       "2    63.136000  63.016000  63.081000  63.565000  62.575000  61.982000   \n",
       "3    56.581678  56.888446  57.189139  57.555796  57.226373  56.988657   \n",
       "4    61.092000  61.680000  62.144000  62.448000  62.261000  61.643000   \n",
       "..         ...        ...        ...        ...        ...        ...   \n",
       "261  78.981000  78.783000  78.696000  79.022000  76.567000  76.806000   \n",
       "262  66.064000  65.957000  64.575000  65.092000  64.650000  63.753000   \n",
       "263  64.747000  65.402000  65.674000  66.175000  65.252000  62.341000   \n",
       "264  61.794000  62.120000  62.342000  62.793000  62.380000  61.223000   \n",
       "265  60.306000  60.709000  61.414000  61.292000  61.124000  59.253000   \n",
       "\n",
       "          2022  2023  Unnamed: 68  \n",
       "0    74.992000   NaN          NaN  \n",
       "1    62.899031   NaN          NaN  \n",
       "2    62.879000   NaN          NaN  \n",
       "3    57.626176   NaN          NaN  \n",
       "4    61.929000   NaN          NaN  \n",
       "..         ...   ...          ...  \n",
       "261  79.524000   NaN          NaN  \n",
       "262  63.720000   NaN          NaN  \n",
       "263  61.480000   NaN          NaN  \n",
       "264  61.803000   NaN          NaN  \n",
       "265  59.391000   NaN          NaN  \n",
       "\n",
       "[266 rows x 69 columns]"
      ]
     },
     "execution_count": 42,
     "metadata": {},
     "output_type": "execute_result"
    }
   ],
   "source": [
    "life_expectancy = pd.read_csv(\"../data/life_exp.csv\",skiprows = 3)\n",
    "life_expectancy"
   ]
  },
  {
   "cell_type": "markdown",
   "id": "663f52a8",
   "metadata": {},
   "source": [
    "## #22"
   ]
  },
  {
   "cell_type": "code",
   "execution_count": 43,
   "id": "34ebd59f",
   "metadata": {
    "scrolled": true
   },
   "outputs": [
    {
     "data": {
      "text/html": [
       "<div>\n",
       "<style scoped>\n",
       "    .dataframe tbody tr th:only-of-type {\n",
       "        vertical-align: middle;\n",
       "    }\n",
       "\n",
       "    .dataframe tbody tr th {\n",
       "        vertical-align: top;\n",
       "    }\n",
       "\n",
       "    .dataframe thead th {\n",
       "        text-align: right;\n",
       "    }\n",
       "</style>\n",
       "<table border=\"1\" class=\"dataframe\">\n",
       "  <thead>\n",
       "    <tr style=\"text-align: right;\">\n",
       "      <th></th>\n",
       "      <th>Country Name</th>\n",
       "      <th>1960</th>\n",
       "      <th>1961</th>\n",
       "      <th>1962</th>\n",
       "      <th>1963</th>\n",
       "      <th>1964</th>\n",
       "      <th>1965</th>\n",
       "      <th>1966</th>\n",
       "      <th>1967</th>\n",
       "      <th>1968</th>\n",
       "      <th>...</th>\n",
       "      <th>2015</th>\n",
       "      <th>2016</th>\n",
       "      <th>2017</th>\n",
       "      <th>2018</th>\n",
       "      <th>2019</th>\n",
       "      <th>2020</th>\n",
       "      <th>2021</th>\n",
       "      <th>2022</th>\n",
       "      <th>2023</th>\n",
       "      <th>Unnamed: 68</th>\n",
       "    </tr>\n",
       "  </thead>\n",
       "  <tbody>\n",
       "    <tr>\n",
       "      <th>0</th>\n",
       "      <td>Aruba</td>\n",
       "      <td>64.152000</td>\n",
       "      <td>64.537000</td>\n",
       "      <td>64.752000</td>\n",
       "      <td>65.132000</td>\n",
       "      <td>65.294000</td>\n",
       "      <td>65.502000</td>\n",
       "      <td>66.063000</td>\n",
       "      <td>66.439000</td>\n",
       "      <td>66.757000</td>\n",
       "      <td>...</td>\n",
       "      <td>75.683000</td>\n",
       "      <td>75.617000</td>\n",
       "      <td>75.903000</td>\n",
       "      <td>76.072000</td>\n",
       "      <td>76.248000</td>\n",
       "      <td>75.723000</td>\n",
       "      <td>74.626000</td>\n",
       "      <td>74.992000</td>\n",
       "      <td>NaN</td>\n",
       "      <td>NaN</td>\n",
       "    </tr>\n",
       "    <tr>\n",
       "      <th>1</th>\n",
       "      <td>Africa Eastern and Southern</td>\n",
       "      <td>44.085552</td>\n",
       "      <td>44.386697</td>\n",
       "      <td>44.752182</td>\n",
       "      <td>44.913159</td>\n",
       "      <td>45.479043</td>\n",
       "      <td>45.498338</td>\n",
       "      <td>45.249105</td>\n",
       "      <td>45.924905</td>\n",
       "      <td>46.223097</td>\n",
       "      <td>...</td>\n",
       "      <td>61.856458</td>\n",
       "      <td>62.444050</td>\n",
       "      <td>62.922390</td>\n",
       "      <td>63.365863</td>\n",
       "      <td>63.755678</td>\n",
       "      <td>63.313860</td>\n",
       "      <td>62.454590</td>\n",
       "      <td>62.899031</td>\n",
       "      <td>NaN</td>\n",
       "      <td>NaN</td>\n",
       "    </tr>\n",
       "    <tr>\n",
       "      <th>2</th>\n",
       "      <td>Afghanistan</td>\n",
       "      <td>32.535000</td>\n",
       "      <td>33.068000</td>\n",
       "      <td>33.547000</td>\n",
       "      <td>34.016000</td>\n",
       "      <td>34.494000</td>\n",
       "      <td>34.953000</td>\n",
       "      <td>35.453000</td>\n",
       "      <td>35.924000</td>\n",
       "      <td>36.418000</td>\n",
       "      <td>...</td>\n",
       "      <td>62.659000</td>\n",
       "      <td>63.136000</td>\n",
       "      <td>63.016000</td>\n",
       "      <td>63.081000</td>\n",
       "      <td>63.565000</td>\n",
       "      <td>62.575000</td>\n",
       "      <td>61.982000</td>\n",
       "      <td>62.879000</td>\n",
       "      <td>NaN</td>\n",
       "      <td>NaN</td>\n",
       "    </tr>\n",
       "    <tr>\n",
       "      <th>3</th>\n",
       "      <td>Africa Western and Central</td>\n",
       "      <td>37.845152</td>\n",
       "      <td>38.164950</td>\n",
       "      <td>38.735102</td>\n",
       "      <td>39.063715</td>\n",
       "      <td>39.335360</td>\n",
       "      <td>39.618038</td>\n",
       "      <td>39.837827</td>\n",
       "      <td>39.471500</td>\n",
       "      <td>40.085679</td>\n",
       "      <td>...</td>\n",
       "      <td>56.195872</td>\n",
       "      <td>56.581678</td>\n",
       "      <td>56.888446</td>\n",
       "      <td>57.189139</td>\n",
       "      <td>57.555796</td>\n",
       "      <td>57.226373</td>\n",
       "      <td>56.988657</td>\n",
       "      <td>57.626176</td>\n",
       "      <td>NaN</td>\n",
       "      <td>NaN</td>\n",
       "    </tr>\n",
       "    <tr>\n",
       "      <th>4</th>\n",
       "      <td>Angola</td>\n",
       "      <td>38.211000</td>\n",
       "      <td>37.267000</td>\n",
       "      <td>37.539000</td>\n",
       "      <td>37.824000</td>\n",
       "      <td>38.131000</td>\n",
       "      <td>38.495000</td>\n",
       "      <td>38.757000</td>\n",
       "      <td>39.092000</td>\n",
       "      <td>39.484000</td>\n",
       "      <td>...</td>\n",
       "      <td>60.655000</td>\n",
       "      <td>61.092000</td>\n",
       "      <td>61.680000</td>\n",
       "      <td>62.144000</td>\n",
       "      <td>62.448000</td>\n",
       "      <td>62.261000</td>\n",
       "      <td>61.643000</td>\n",
       "      <td>61.929000</td>\n",
       "      <td>NaN</td>\n",
       "      <td>NaN</td>\n",
       "    </tr>\n",
       "    <tr>\n",
       "      <th>...</th>\n",
       "      <td>...</td>\n",
       "      <td>...</td>\n",
       "      <td>...</td>\n",
       "      <td>...</td>\n",
       "      <td>...</td>\n",
       "      <td>...</td>\n",
       "      <td>...</td>\n",
       "      <td>...</td>\n",
       "      <td>...</td>\n",
       "      <td>...</td>\n",
       "      <td>...</td>\n",
       "      <td>...</td>\n",
       "      <td>...</td>\n",
       "      <td>...</td>\n",
       "      <td>...</td>\n",
       "      <td>...</td>\n",
       "      <td>...</td>\n",
       "      <td>...</td>\n",
       "      <td>...</td>\n",
       "      <td>...</td>\n",
       "      <td>...</td>\n",
       "    </tr>\n",
       "    <tr>\n",
       "      <th>261</th>\n",
       "      <td>Kosovo</td>\n",
       "      <td>61.485000</td>\n",
       "      <td>61.836000</td>\n",
       "      <td>62.134000</td>\n",
       "      <td>62.440000</td>\n",
       "      <td>62.734000</td>\n",
       "      <td>63.041000</td>\n",
       "      <td>63.323000</td>\n",
       "      <td>63.653000</td>\n",
       "      <td>63.935000</td>\n",
       "      <td>...</td>\n",
       "      <td>78.922000</td>\n",
       "      <td>78.981000</td>\n",
       "      <td>78.783000</td>\n",
       "      <td>78.696000</td>\n",
       "      <td>79.022000</td>\n",
       "      <td>76.567000</td>\n",
       "      <td>76.806000</td>\n",
       "      <td>79.524000</td>\n",
       "      <td>NaN</td>\n",
       "      <td>NaN</td>\n",
       "    </tr>\n",
       "    <tr>\n",
       "      <th>262</th>\n",
       "      <td>Yemen, Rep.</td>\n",
       "      <td>33.678000</td>\n",
       "      <td>34.098000</td>\n",
       "      <td>33.615000</td>\n",
       "      <td>33.247000</td>\n",
       "      <td>34.738000</td>\n",
       "      <td>35.373000</td>\n",
       "      <td>36.097000</td>\n",
       "      <td>36.866000</td>\n",
       "      <td>37.796000</td>\n",
       "      <td>...</td>\n",
       "      <td>65.873000</td>\n",
       "      <td>66.064000</td>\n",
       "      <td>65.957000</td>\n",
       "      <td>64.575000</td>\n",
       "      <td>65.092000</td>\n",
       "      <td>64.650000</td>\n",
       "      <td>63.753000</td>\n",
       "      <td>63.720000</td>\n",
       "      <td>NaN</td>\n",
       "      <td>NaN</td>\n",
       "    </tr>\n",
       "    <tr>\n",
       "      <th>263</th>\n",
       "      <td>South Africa</td>\n",
       "      <td>52.669000</td>\n",
       "      <td>53.085000</td>\n",
       "      <td>53.376000</td>\n",
       "      <td>53.633000</td>\n",
       "      <td>53.906000</td>\n",
       "      <td>54.192000</td>\n",
       "      <td>54.391000</td>\n",
       "      <td>54.626000</td>\n",
       "      <td>54.876000</td>\n",
       "      <td>...</td>\n",
       "      <td>63.950000</td>\n",
       "      <td>64.747000</td>\n",
       "      <td>65.402000</td>\n",
       "      <td>65.674000</td>\n",
       "      <td>66.175000</td>\n",
       "      <td>65.252000</td>\n",
       "      <td>62.341000</td>\n",
       "      <td>61.480000</td>\n",
       "      <td>NaN</td>\n",
       "      <td>NaN</td>\n",
       "    </tr>\n",
       "    <tr>\n",
       "      <th>264</th>\n",
       "      <td>Zambia</td>\n",
       "      <td>49.042000</td>\n",
       "      <td>49.452000</td>\n",
       "      <td>49.794000</td>\n",
       "      <td>50.133000</td>\n",
       "      <td>49.849000</td>\n",
       "      <td>50.563000</td>\n",
       "      <td>50.679000</td>\n",
       "      <td>50.802000</td>\n",
       "      <td>50.856000</td>\n",
       "      <td>...</td>\n",
       "      <td>61.208000</td>\n",
       "      <td>61.794000</td>\n",
       "      <td>62.120000</td>\n",
       "      <td>62.342000</td>\n",
       "      <td>62.793000</td>\n",
       "      <td>62.380000</td>\n",
       "      <td>61.223000</td>\n",
       "      <td>61.803000</td>\n",
       "      <td>NaN</td>\n",
       "      <td>NaN</td>\n",
       "    </tr>\n",
       "    <tr>\n",
       "      <th>265</th>\n",
       "      <td>Zimbabwe</td>\n",
       "      <td>53.235000</td>\n",
       "      <td>53.619000</td>\n",
       "      <td>54.071000</td>\n",
       "      <td>54.549000</td>\n",
       "      <td>54.994000</td>\n",
       "      <td>55.459000</td>\n",
       "      <td>55.889000</td>\n",
       "      <td>56.188000</td>\n",
       "      <td>56.455000</td>\n",
       "      <td>...</td>\n",
       "      <td>59.591000</td>\n",
       "      <td>60.306000</td>\n",
       "      <td>60.709000</td>\n",
       "      <td>61.414000</td>\n",
       "      <td>61.292000</td>\n",
       "      <td>61.124000</td>\n",
       "      <td>59.253000</td>\n",
       "      <td>59.391000</td>\n",
       "      <td>NaN</td>\n",
       "      <td>NaN</td>\n",
       "    </tr>\n",
       "  </tbody>\n",
       "</table>\n",
       "<p>266 rows × 66 columns</p>\n",
       "</div>"
      ],
      "text/plain": [
       "                    Country Name       1960       1961       1962       1963  \\\n",
       "0                          Aruba  64.152000  64.537000  64.752000  65.132000   \n",
       "1    Africa Eastern and Southern  44.085552  44.386697  44.752182  44.913159   \n",
       "2                    Afghanistan  32.535000  33.068000  33.547000  34.016000   \n",
       "3     Africa Western and Central  37.845152  38.164950  38.735102  39.063715   \n",
       "4                         Angola  38.211000  37.267000  37.539000  37.824000   \n",
       "..                           ...        ...        ...        ...        ...   \n",
       "261                       Kosovo  61.485000  61.836000  62.134000  62.440000   \n",
       "262                  Yemen, Rep.  33.678000  34.098000  33.615000  33.247000   \n",
       "263                 South Africa  52.669000  53.085000  53.376000  53.633000   \n",
       "264                       Zambia  49.042000  49.452000  49.794000  50.133000   \n",
       "265                     Zimbabwe  53.235000  53.619000  54.071000  54.549000   \n",
       "\n",
       "          1964       1965       1966       1967       1968  ...       2015  \\\n",
       "0    65.294000  65.502000  66.063000  66.439000  66.757000  ...  75.683000   \n",
       "1    45.479043  45.498338  45.249105  45.924905  46.223097  ...  61.856458   \n",
       "2    34.494000  34.953000  35.453000  35.924000  36.418000  ...  62.659000   \n",
       "3    39.335360  39.618038  39.837827  39.471500  40.085679  ...  56.195872   \n",
       "4    38.131000  38.495000  38.757000  39.092000  39.484000  ...  60.655000   \n",
       "..         ...        ...        ...        ...        ...  ...        ...   \n",
       "261  62.734000  63.041000  63.323000  63.653000  63.935000  ...  78.922000   \n",
       "262  34.738000  35.373000  36.097000  36.866000  37.796000  ...  65.873000   \n",
       "263  53.906000  54.192000  54.391000  54.626000  54.876000  ...  63.950000   \n",
       "264  49.849000  50.563000  50.679000  50.802000  50.856000  ...  61.208000   \n",
       "265  54.994000  55.459000  55.889000  56.188000  56.455000  ...  59.591000   \n",
       "\n",
       "          2016       2017       2018       2019       2020       2021  \\\n",
       "0    75.617000  75.903000  76.072000  76.248000  75.723000  74.626000   \n",
       "1    62.444050  62.922390  63.365863  63.755678  63.313860  62.454590   \n",
       "2    63.136000  63.016000  63.081000  63.565000  62.575000  61.982000   \n",
       "3    56.581678  56.888446  57.189139  57.555796  57.226373  56.988657   \n",
       "4    61.092000  61.680000  62.144000  62.448000  62.261000  61.643000   \n",
       "..         ...        ...        ...        ...        ...        ...   \n",
       "261  78.981000  78.783000  78.696000  79.022000  76.567000  76.806000   \n",
       "262  66.064000  65.957000  64.575000  65.092000  64.650000  63.753000   \n",
       "263  64.747000  65.402000  65.674000  66.175000  65.252000  62.341000   \n",
       "264  61.794000  62.120000  62.342000  62.793000  62.380000  61.223000   \n",
       "265  60.306000  60.709000  61.414000  61.292000  61.124000  59.253000   \n",
       "\n",
       "          2022  2023  Unnamed: 68  \n",
       "0    74.992000   NaN          NaN  \n",
       "1    62.899031   NaN          NaN  \n",
       "2    62.879000   NaN          NaN  \n",
       "3    57.626176   NaN          NaN  \n",
       "4    61.929000   NaN          NaN  \n",
       "..         ...   ...          ...  \n",
       "261  79.524000   NaN          NaN  \n",
       "262  63.720000   NaN          NaN  \n",
       "263  61.480000   NaN          NaN  \n",
       "264  61.803000   NaN          NaN  \n",
       "265  59.391000   NaN          NaN  \n",
       "\n",
       "[266 rows x 66 columns]"
      ]
     },
     "execution_count": 43,
     "metadata": {},
     "output_type": "execute_result"
    }
   ],
   "source": [
    "life_expectancy.drop([\"Country Code\",\"Indicator Name\",\"Indicator Code\"], axis = 1)"
   ]
  },
  {
   "cell_type": "code",
   "execution_count": 44,
   "id": "4feca5ae",
   "metadata": {
    "scrolled": true
   },
   "outputs": [
    {
     "data": {
      "text/plain": [
       "['Country Name',\n",
       " 'Country Code',\n",
       " 'Indicator Name',\n",
       " 'Indicator Code',\n",
       " '1960',\n",
       " '1961',\n",
       " '1962',\n",
       " '1963',\n",
       " '1964',\n",
       " '1965',\n",
       " '1966',\n",
       " '1967',\n",
       " '1968',\n",
       " '1969',\n",
       " '1970',\n",
       " '1971',\n",
       " '1972',\n",
       " '1973',\n",
       " '1974',\n",
       " '1975',\n",
       " '1976',\n",
       " '1977',\n",
       " '1978',\n",
       " '1979',\n",
       " '1980',\n",
       " '1981',\n",
       " '1982',\n",
       " '1983',\n",
       " '1984',\n",
       " '1985',\n",
       " '1986',\n",
       " '1987',\n",
       " '1988',\n",
       " '1989',\n",
       " '1990',\n",
       " '1991',\n",
       " '1992',\n",
       " '1993',\n",
       " '1994',\n",
       " '1995',\n",
       " '1996',\n",
       " '1997',\n",
       " '1998',\n",
       " '1999',\n",
       " '2000',\n",
       " '2001',\n",
       " '2002',\n",
       " '2003',\n",
       " '2004',\n",
       " '2005',\n",
       " '2006',\n",
       " '2007',\n",
       " '2008',\n",
       " '2009',\n",
       " '2010',\n",
       " '2011',\n",
       " '2012',\n",
       " '2013',\n",
       " '2014',\n",
       " '2015',\n",
       " '2016',\n",
       " '2017',\n",
       " '2018',\n",
       " '2019',\n",
       " '2020',\n",
       " '2021',\n",
       " '2022',\n",
       " '2023',\n",
       " 'Unnamed: 68']"
      ]
     },
     "execution_count": 44,
     "metadata": {},
     "output_type": "execute_result"
    }
   ],
   "source": [
    "life_exp_years = list(life_expectancy.columns.values)\n",
    "life_exp_years\n"
   ]
  },
  {
   "cell_type": "code",
   "execution_count": 45,
   "id": "c519dbe9",
   "metadata": {},
   "outputs": [],
   "source": [
    "life_exp_years.remove(\"Unnamed: 68\")\n",
    "life_exp_years.remove(\"Country Name\")\n",
    "life_exp_years.remove(\"Country Code\")\n",
    "life_exp_years.remove(\"Indicator Name\")\n",
    "life_exp_years.remove(\"Indicator Code\")"
   ]
  },
  {
   "cell_type": "code",
   "execution_count": 46,
   "id": "bae3e9fc",
   "metadata": {},
   "outputs": [],
   "source": [
    "life_expectancy = life_expectancy.melt(id_vars = \"Country Name\", value_vars = life_exp_years)"
   ]
  },
  {
   "cell_type": "code",
   "execution_count": 47,
   "id": "4fe67858",
   "metadata": {},
   "outputs": [
    {
     "data": {
      "text/html": [
       "<div>\n",
       "<style scoped>\n",
       "    .dataframe tbody tr th:only-of-type {\n",
       "        vertical-align: middle;\n",
       "    }\n",
       "\n",
       "    .dataframe tbody tr th {\n",
       "        vertical-align: top;\n",
       "    }\n",
       "\n",
       "    .dataframe thead th {\n",
       "        text-align: right;\n",
       "    }\n",
       "</style>\n",
       "<table border=\"1\" class=\"dataframe\">\n",
       "  <thead>\n",
       "    <tr style=\"text-align: right;\">\n",
       "      <th></th>\n",
       "      <th>Country Name</th>\n",
       "      <th>variable</th>\n",
       "      <th>value</th>\n",
       "    </tr>\n",
       "  </thead>\n",
       "  <tbody>\n",
       "    <tr>\n",
       "      <th>0</th>\n",
       "      <td>Aruba</td>\n",
       "      <td>1960</td>\n",
       "      <td>64.152000</td>\n",
       "    </tr>\n",
       "    <tr>\n",
       "      <th>1</th>\n",
       "      <td>Africa Eastern and Southern</td>\n",
       "      <td>1960</td>\n",
       "      <td>44.085552</td>\n",
       "    </tr>\n",
       "    <tr>\n",
       "      <th>2</th>\n",
       "      <td>Afghanistan</td>\n",
       "      <td>1960</td>\n",
       "      <td>32.535000</td>\n",
       "    </tr>\n",
       "    <tr>\n",
       "      <th>3</th>\n",
       "      <td>Africa Western and Central</td>\n",
       "      <td>1960</td>\n",
       "      <td>37.845152</td>\n",
       "    </tr>\n",
       "    <tr>\n",
       "      <th>4</th>\n",
       "      <td>Angola</td>\n",
       "      <td>1960</td>\n",
       "      <td>38.211000</td>\n",
       "    </tr>\n",
       "    <tr>\n",
       "      <th>...</th>\n",
       "      <td>...</td>\n",
       "      <td>...</td>\n",
       "      <td>...</td>\n",
       "    </tr>\n",
       "    <tr>\n",
       "      <th>17019</th>\n",
       "      <td>Kosovo</td>\n",
       "      <td>2023</td>\n",
       "      <td>NaN</td>\n",
       "    </tr>\n",
       "    <tr>\n",
       "      <th>17020</th>\n",
       "      <td>Yemen, Rep.</td>\n",
       "      <td>2023</td>\n",
       "      <td>NaN</td>\n",
       "    </tr>\n",
       "    <tr>\n",
       "      <th>17021</th>\n",
       "      <td>South Africa</td>\n",
       "      <td>2023</td>\n",
       "      <td>NaN</td>\n",
       "    </tr>\n",
       "    <tr>\n",
       "      <th>17022</th>\n",
       "      <td>Zambia</td>\n",
       "      <td>2023</td>\n",
       "      <td>NaN</td>\n",
       "    </tr>\n",
       "    <tr>\n",
       "      <th>17023</th>\n",
       "      <td>Zimbabwe</td>\n",
       "      <td>2023</td>\n",
       "      <td>NaN</td>\n",
       "    </tr>\n",
       "  </tbody>\n",
       "</table>\n",
       "<p>17024 rows × 3 columns</p>\n",
       "</div>"
      ],
      "text/plain": [
       "                      Country Name variable      value\n",
       "0                            Aruba     1960  64.152000\n",
       "1      Africa Eastern and Southern     1960  44.085552\n",
       "2                      Afghanistan     1960  32.535000\n",
       "3       Africa Western and Central     1960  37.845152\n",
       "4                           Angola     1960  38.211000\n",
       "...                            ...      ...        ...\n",
       "17019                       Kosovo     2023        NaN\n",
       "17020                  Yemen, Rep.     2023        NaN\n",
       "17021                 South Africa     2023        NaN\n",
       "17022                       Zambia     2023        NaN\n",
       "17023                     Zimbabwe     2023        NaN\n",
       "\n",
       "[17024 rows x 3 columns]"
      ]
     },
     "execution_count": 47,
     "metadata": {},
     "output_type": "execute_result"
    }
   ],
   "source": [
    "life_expectancy"
   ]
  },
  {
   "cell_type": "code",
   "execution_count": 48,
   "id": "89296f10",
   "metadata": {},
   "outputs": [
    {
     "data": {
      "text/html": [
       "<div>\n",
       "<style scoped>\n",
       "    .dataframe tbody tr th:only-of-type {\n",
       "        vertical-align: middle;\n",
       "    }\n",
       "\n",
       "    .dataframe tbody tr th {\n",
       "        vertical-align: top;\n",
       "    }\n",
       "\n",
       "    .dataframe thead th {\n",
       "        text-align: right;\n",
       "    }\n",
       "</style>\n",
       "<table border=\"1\" class=\"dataframe\">\n",
       "  <thead>\n",
       "    <tr style=\"text-align: right;\">\n",
       "      <th></th>\n",
       "      <th>Country</th>\n",
       "      <th>Year</th>\n",
       "      <th>Life_Expectancy</th>\n",
       "    </tr>\n",
       "  </thead>\n",
       "  <tbody>\n",
       "    <tr>\n",
       "      <th>0</th>\n",
       "      <td>Aruba</td>\n",
       "      <td>1960</td>\n",
       "      <td>64.152000</td>\n",
       "    </tr>\n",
       "    <tr>\n",
       "      <th>1</th>\n",
       "      <td>Africa Eastern and Southern</td>\n",
       "      <td>1960</td>\n",
       "      <td>44.085552</td>\n",
       "    </tr>\n",
       "    <tr>\n",
       "      <th>2</th>\n",
       "      <td>Afghanistan</td>\n",
       "      <td>1960</td>\n",
       "      <td>32.535000</td>\n",
       "    </tr>\n",
       "    <tr>\n",
       "      <th>3</th>\n",
       "      <td>Africa Western and Central</td>\n",
       "      <td>1960</td>\n",
       "      <td>37.845152</td>\n",
       "    </tr>\n",
       "    <tr>\n",
       "      <th>4</th>\n",
       "      <td>Angola</td>\n",
       "      <td>1960</td>\n",
       "      <td>38.211000</td>\n",
       "    </tr>\n",
       "    <tr>\n",
       "      <th>...</th>\n",
       "      <td>...</td>\n",
       "      <td>...</td>\n",
       "      <td>...</td>\n",
       "    </tr>\n",
       "    <tr>\n",
       "      <th>17019</th>\n",
       "      <td>Kosovo</td>\n",
       "      <td>2023</td>\n",
       "      <td>NaN</td>\n",
       "    </tr>\n",
       "    <tr>\n",
       "      <th>17020</th>\n",
       "      <td>Yemen, Rep.</td>\n",
       "      <td>2023</td>\n",
       "      <td>NaN</td>\n",
       "    </tr>\n",
       "    <tr>\n",
       "      <th>17021</th>\n",
       "      <td>South Africa</td>\n",
       "      <td>2023</td>\n",
       "      <td>NaN</td>\n",
       "    </tr>\n",
       "    <tr>\n",
       "      <th>17022</th>\n",
       "      <td>Zambia</td>\n",
       "      <td>2023</td>\n",
       "      <td>NaN</td>\n",
       "    </tr>\n",
       "    <tr>\n",
       "      <th>17023</th>\n",
       "      <td>Zimbabwe</td>\n",
       "      <td>2023</td>\n",
       "      <td>NaN</td>\n",
       "    </tr>\n",
       "  </tbody>\n",
       "</table>\n",
       "<p>17024 rows × 3 columns</p>\n",
       "</div>"
      ],
      "text/plain": [
       "                           Country  Year  Life_Expectancy\n",
       "0                            Aruba  1960        64.152000\n",
       "1      Africa Eastern and Southern  1960        44.085552\n",
       "2                      Afghanistan  1960        32.535000\n",
       "3       Africa Western and Central  1960        37.845152\n",
       "4                           Angola  1960        38.211000\n",
       "...                            ...   ...              ...\n",
       "17019                       Kosovo  2023              NaN\n",
       "17020                  Yemen, Rep.  2023              NaN\n",
       "17021                 South Africa  2023              NaN\n",
       "17022                       Zambia  2023              NaN\n",
       "17023                     Zimbabwe  2023              NaN\n",
       "\n",
       "[17024 rows x 3 columns]"
      ]
     },
     "execution_count": 48,
     "metadata": {},
     "output_type": "execute_result"
    }
   ],
   "source": [
    "life_expectancy = life_expectancy.rename(columns = {'variable':'Year','value':'Life_Expectancy','Country Name':'Country'})\n",
    "life_expectancy"
   ]
  },
  {
   "cell_type": "markdown",
   "id": "623a7867",
   "metadata": {},
   "source": [
    "## #23"
   ]
  },
  {
   "cell_type": "code",
   "execution_count": 49,
   "id": "8b13fb89",
   "metadata": {
    "scrolled": true
   },
   "outputs": [
    {
     "data": {
      "text/html": [
       "<div>\n",
       "<style scoped>\n",
       "    .dataframe tbody tr th:only-of-type {\n",
       "        vertical-align: middle;\n",
       "    }\n",
       "\n",
       "    .dataframe tbody tr th {\n",
       "        vertical-align: top;\n",
       "    }\n",
       "\n",
       "    .dataframe thead th {\n",
       "        text-align: right;\n",
       "    }\n",
       "</style>\n",
       "<table border=\"1\" class=\"dataframe\">\n",
       "  <thead>\n",
       "    <tr style=\"text-align: right;\">\n",
       "      <th></th>\n",
       "      <th>Country</th>\n",
       "      <th>Year</th>\n",
       "      <th>Life_Expectancy</th>\n",
       "    </tr>\n",
       "  </thead>\n",
       "  <tbody>\n",
       "    <tr>\n",
       "      <th>9695</th>\n",
       "      <td>Japan</td>\n",
       "      <td>1996</td>\n",
       "      <td>80.219756</td>\n",
       "    </tr>\n",
       "    <tr>\n",
       "      <th>9926</th>\n",
       "      <td>Gibraltar</td>\n",
       "      <td>1997</td>\n",
       "      <td>80.343000</td>\n",
       "    </tr>\n",
       "    <tr>\n",
       "      <th>9938</th>\n",
       "      <td>Hong Kong SAR, China</td>\n",
       "      <td>1997</td>\n",
       "      <td>80.112195</td>\n",
       "    </tr>\n",
       "    <tr>\n",
       "      <th>9961</th>\n",
       "      <td>Japan</td>\n",
       "      <td>1997</td>\n",
       "      <td>80.424146</td>\n",
       "    </tr>\n",
       "    <tr>\n",
       "      <th>9988</th>\n",
       "      <td>Macao SAR, China</td>\n",
       "      <td>1997</td>\n",
       "      <td>80.162000</td>\n",
       "    </tr>\n",
       "    <tr>\n",
       "      <th>...</th>\n",
       "      <td>...</td>\n",
       "      <td>...</td>\n",
       "      <td>...</td>\n",
       "    </tr>\n",
       "    <tr>\n",
       "      <th>16576</th>\n",
       "      <td>Gibraltar</td>\n",
       "      <td>2022</td>\n",
       "      <td>82.830000</td>\n",
       "    </tr>\n",
       "    <tr>\n",
       "      <th>16581</th>\n",
       "      <td>Greece</td>\n",
       "      <td>2022</td>\n",
       "      <td>80.636585</td>\n",
       "    </tr>\n",
       "    <tr>\n",
       "      <th>16588</th>\n",
       "      <td>Hong Kong SAR, China</td>\n",
       "      <td>2022</td>\n",
       "      <td>83.660976</td>\n",
       "    </tr>\n",
       "    <tr>\n",
       "      <th>16550</th>\n",
       "      <td>Denmark</td>\n",
       "      <td>2022</td>\n",
       "      <td>81.304878</td>\n",
       "    </tr>\n",
       "    <tr>\n",
       "      <th>16748</th>\n",
       "      <td>Virgin Islands (U.S.)</td>\n",
       "      <td>2022</td>\n",
       "      <td>80.319512</td>\n",
       "    </tr>\n",
       "  </tbody>\n",
       "</table>\n",
       "<p>690 rows × 3 columns</p>\n",
       "</div>"
      ],
      "text/plain": [
       "                     Country  Year  Life_Expectancy\n",
       "9695                   Japan  1996        80.219756\n",
       "9926               Gibraltar  1997        80.343000\n",
       "9938    Hong Kong SAR, China  1997        80.112195\n",
       "9961                   Japan  1997        80.424146\n",
       "9988        Macao SAR, China  1997        80.162000\n",
       "...                      ...   ...              ...\n",
       "16576              Gibraltar  2022        82.830000\n",
       "16581                 Greece  2022        80.636585\n",
       "16588   Hong Kong SAR, China  2022        83.660976\n",
       "16550                Denmark  2022        81.304878\n",
       "16748  Virgin Islands (U.S.)  2022        80.319512\n",
       "\n",
       "[690 rows x 3 columns]"
      ]
     },
     "execution_count": 49,
     "metadata": {},
     "output_type": "execute_result"
    }
   ],
   "source": [
    "life_expectancy[life_expectancy[\"Life_Expectancy\"] >80].sort_values(\"Year\",ascending = True)"
   ]
  },
  {
   "cell_type": "markdown",
   "id": "2c75a5ef",
   "metadata": {},
   "source": [
    "### Japan was the first Country to have a life expectancy of over 80, in 1996."
   ]
  },
  {
   "cell_type": "markdown",
   "id": "f3ce08ed",
   "metadata": {},
   "source": [
    "## #24"
   ]
  },
  {
   "cell_type": "code",
   "execution_count": 50,
   "id": "5e26af3a",
   "metadata": {},
   "outputs": [],
   "source": [
    "life_expectancy[[\"Year\"]] = life_expectancy[[\"Year\"]].astype(int)"
   ]
  },
  {
   "cell_type": "code",
   "execution_count": 51,
   "id": "1593b7f4",
   "metadata": {},
   "outputs": [
    {
     "data": {
      "text/plain": [
       "Country            string[python]\n",
       "Year                        Int32\n",
       "Life_Expectancy           Float64\n",
       "dtype: object"
      ]
     },
     "execution_count": 51,
     "metadata": {},
     "output_type": "execute_result"
    }
   ],
   "source": [
    "life_expectancy.convert_dtypes().dtypes"
   ]
  },
  {
   "cell_type": "code",
   "execution_count": 78,
   "id": "8679a54d",
   "metadata": {},
   "outputs": [
    {
     "data": {
      "text/html": [
       "<div>\n",
       "<style scoped>\n",
       "    .dataframe tbody tr th:only-of-type {\n",
       "        vertical-align: middle;\n",
       "    }\n",
       "\n",
       "    .dataframe tbody tr th {\n",
       "        vertical-align: top;\n",
       "    }\n",
       "\n",
       "    .dataframe thead th {\n",
       "        text-align: right;\n",
       "    }\n",
       "</style>\n",
       "<table border=\"1\" class=\"dataframe\">\n",
       "  <thead>\n",
       "    <tr style=\"text-align: right;\">\n",
       "      <th></th>\n",
       "      <th>Country</th>\n",
       "      <th>Year</th>\n",
       "      <th>GDP_Per_Capita</th>\n",
       "      <th>Continent</th>\n",
       "      <th>Life_Expectancy</th>\n",
       "    </tr>\n",
       "  </thead>\n",
       "  <tbody>\n",
       "    <tr>\n",
       "      <th>0</th>\n",
       "      <td>Afghanistan</td>\n",
       "      <td>2021</td>\n",
       "      <td>1517.016266</td>\n",
       "      <td>Asia</td>\n",
       "      <td>61.982</td>\n",
       "    </tr>\n",
       "    <tr>\n",
       "      <th>1</th>\n",
       "      <td>Afghanistan</td>\n",
       "      <td>2020</td>\n",
       "      <td>1968.341002</td>\n",
       "      <td>Asia</td>\n",
       "      <td>62.575</td>\n",
       "    </tr>\n",
       "    <tr>\n",
       "      <th>2</th>\n",
       "      <td>Afghanistan</td>\n",
       "      <td>2019</td>\n",
       "      <td>2079.921861</td>\n",
       "      <td>Asia</td>\n",
       "      <td>63.565</td>\n",
       "    </tr>\n",
       "    <tr>\n",
       "      <th>3</th>\n",
       "      <td>Afghanistan</td>\n",
       "      <td>2018</td>\n",
       "      <td>2060.698973</td>\n",
       "      <td>Asia</td>\n",
       "      <td>63.081</td>\n",
       "    </tr>\n",
       "    <tr>\n",
       "      <th>4</th>\n",
       "      <td>Afghanistan</td>\n",
       "      <td>2017</td>\n",
       "      <td>2096.093111</td>\n",
       "      <td>Asia</td>\n",
       "      <td>63.016</td>\n",
       "    </tr>\n",
       "    <tr>\n",
       "      <th>...</th>\n",
       "      <td>...</td>\n",
       "      <td>...</td>\n",
       "      <td>...</td>\n",
       "      <td>...</td>\n",
       "      <td>...</td>\n",
       "    </tr>\n",
       "    <tr>\n",
       "      <th>5558</th>\n",
       "      <td>Zimbabwe</td>\n",
       "      <td>1994</td>\n",
       "      <td>2670.106615</td>\n",
       "      <td>Africa</td>\n",
       "      <td>52.588</td>\n",
       "    </tr>\n",
       "    <tr>\n",
       "      <th>5559</th>\n",
       "      <td>Zimbabwe</td>\n",
       "      <td>1993</td>\n",
       "      <td>2458.783255</td>\n",
       "      <td>Africa</td>\n",
       "      <td>54.426</td>\n",
       "    </tr>\n",
       "    <tr>\n",
       "      <th>5560</th>\n",
       "      <td>Zimbabwe</td>\n",
       "      <td>1992</td>\n",
       "      <td>2468.278257</td>\n",
       "      <td>Africa</td>\n",
       "      <td>56.435</td>\n",
       "    </tr>\n",
       "    <tr>\n",
       "      <th>5561</th>\n",
       "      <td>Zimbabwe</td>\n",
       "      <td>1991</td>\n",
       "      <td>2781.787843</td>\n",
       "      <td>Africa</td>\n",
       "      <td>58.091</td>\n",
       "    </tr>\n",
       "    <tr>\n",
       "      <th>5562</th>\n",
       "      <td>Zimbabwe</td>\n",
       "      <td>1990</td>\n",
       "      <td>2704.757299</td>\n",
       "      <td>Africa</td>\n",
       "      <td>59.426</td>\n",
       "    </tr>\n",
       "  </tbody>\n",
       "</table>\n",
       "<p>5563 rows × 5 columns</p>\n",
       "</div>"
      ],
      "text/plain": [
       "          Country  Year  GDP_Per_Capita Continent  Life_Expectancy\n",
       "0     Afghanistan  2021     1517.016266      Asia           61.982\n",
       "1     Afghanistan  2020     1968.341002      Asia           62.575\n",
       "2     Afghanistan  2019     2079.921861      Asia           63.565\n",
       "3     Afghanistan  2018     2060.698973      Asia           63.081\n",
       "4     Afghanistan  2017     2096.093111      Asia           63.016\n",
       "...           ...   ...             ...       ...              ...\n",
       "5558     Zimbabwe  1994     2670.106615    Africa           52.588\n",
       "5559     Zimbabwe  1993     2458.783255    Africa           54.426\n",
       "5560     Zimbabwe  1992     2468.278257    Africa           56.435\n",
       "5561     Zimbabwe  1991     2781.787843    Africa           58.091\n",
       "5562     Zimbabwe  1990     2704.757299    Africa           59.426\n",
       "\n",
       "[5563 rows x 5 columns]"
      ]
     },
     "execution_count": 78,
     "metadata": {},
     "output_type": "execute_result"
    }
   ],
   "source": [
    "gdp_le = gdp_df.merge(life_expectancy, validate = \"one_to_one\")\n",
    "gdp_le"
   ]
  },
  {
   "cell_type": "markdown",
   "id": "814cdea3",
   "metadata": {},
   "source": [
    "## #25"
   ]
  },
  {
   "cell_type": "code",
   "execution_count": 54,
   "id": "faa53c0a",
   "metadata": {},
   "outputs": [],
   "source": [
    "gdp_le_2021 = gdp_le[gdp_le['Year'] == 2021]"
   ]
  },
  {
   "cell_type": "code",
   "execution_count": 55,
   "id": "ff6836b5",
   "metadata": {},
   "outputs": [
    {
     "data": {
      "text/html": [
       "<div>\n",
       "<style scoped>\n",
       "    .dataframe tbody tr th:only-of-type {\n",
       "        vertical-align: middle;\n",
       "    }\n",
       "\n",
       "    .dataframe tbody tr th {\n",
       "        vertical-align: top;\n",
       "    }\n",
       "\n",
       "    .dataframe thead th {\n",
       "        text-align: right;\n",
       "    }\n",
       "</style>\n",
       "<table border=\"1\" class=\"dataframe\">\n",
       "  <thead>\n",
       "    <tr style=\"text-align: right;\">\n",
       "      <th></th>\n",
       "      <th>Country</th>\n",
       "      <th>Year</th>\n",
       "      <th>GDP_Per_Capita</th>\n",
       "      <th>Continent</th>\n",
       "      <th>Life_Expectancy</th>\n",
       "    </tr>\n",
       "  </thead>\n",
       "  <tbody>\n",
       "    <tr>\n",
       "      <th>0</th>\n",
       "      <td>Afghanistan</td>\n",
       "      <td>2021</td>\n",
       "      <td>1517.016266</td>\n",
       "      <td>Asia</td>\n",
       "      <td>61.982</td>\n",
       "    </tr>\n",
       "    <tr>\n",
       "      <th>21</th>\n",
       "      <td>Albania</td>\n",
       "      <td>2021</td>\n",
       "      <td>14595.944386</td>\n",
       "      <td>Europe</td>\n",
       "      <td>76.463</td>\n",
       "    </tr>\n",
       "    <tr>\n",
       "      <th>54</th>\n",
       "      <td>Algeria</td>\n",
       "      <td>2021</td>\n",
       "      <td>11029.138782</td>\n",
       "      <td>Africa</td>\n",
       "      <td>76.377</td>\n",
       "    </tr>\n",
       "    <tr>\n",
       "      <th>87</th>\n",
       "      <td>Angola</td>\n",
       "      <td>2021</td>\n",
       "      <td>5911.835657</td>\n",
       "      <td>Africa</td>\n",
       "      <td>61.643</td>\n",
       "    </tr>\n",
       "    <tr>\n",
       "      <th>120</th>\n",
       "      <td>Antigua and Barbuda</td>\n",
       "      <td>2021</td>\n",
       "      <td>19899.882425</td>\n",
       "      <td>North America</td>\n",
       "      <td>78.497</td>\n",
       "    </tr>\n",
       "    <tr>\n",
       "      <th>...</th>\n",
       "      <td>...</td>\n",
       "      <td>...</td>\n",
       "      <td>...</td>\n",
       "      <td>...</td>\n",
       "      <td>...</td>\n",
       "    </tr>\n",
       "    <tr>\n",
       "      <th>5403</th>\n",
       "      <td>Uzbekistan</td>\n",
       "      <td>2021</td>\n",
       "      <td>7800.501501</td>\n",
       "      <td>Asia</td>\n",
       "      <td>70.862</td>\n",
       "    </tr>\n",
       "    <tr>\n",
       "      <th>5436</th>\n",
       "      <td>Vanuatu</td>\n",
       "      <td>2021</td>\n",
       "      <td>2800.493866</td>\n",
       "      <td>Oceania</td>\n",
       "      <td>70.449</td>\n",
       "    </tr>\n",
       "    <tr>\n",
       "      <th>5469</th>\n",
       "      <td>West Bank and Gaza</td>\n",
       "      <td>2021</td>\n",
       "      <td>5641.044400</td>\n",
       "      <td>Asia</td>\n",
       "      <td>73.473</td>\n",
       "    </tr>\n",
       "    <tr>\n",
       "      <th>5498</th>\n",
       "      <td>Zambia</td>\n",
       "      <td>2021</td>\n",
       "      <td>3236.788981</td>\n",
       "      <td>Africa</td>\n",
       "      <td>61.223</td>\n",
       "    </tr>\n",
       "    <tr>\n",
       "      <th>5531</th>\n",
       "      <td>Zimbabwe</td>\n",
       "      <td>2021</td>\n",
       "      <td>2115.144555</td>\n",
       "      <td>Africa</td>\n",
       "      <td>59.253</td>\n",
       "    </tr>\n",
       "  </tbody>\n",
       "</table>\n",
       "<p>175 rows × 5 columns</p>\n",
       "</div>"
      ],
      "text/plain": [
       "                  Country  Year  GDP_Per_Capita      Continent  \\\n",
       "0             Afghanistan  2021     1517.016266           Asia   \n",
       "21                Albania  2021    14595.944386         Europe   \n",
       "54                Algeria  2021    11029.138782         Africa   \n",
       "87                 Angola  2021     5911.835657         Africa   \n",
       "120   Antigua and Barbuda  2021    19899.882425  North America   \n",
       "...                   ...   ...             ...            ...   \n",
       "5403           Uzbekistan  2021     7800.501501           Asia   \n",
       "5436              Vanuatu  2021     2800.493866        Oceania   \n",
       "5469   West Bank and Gaza  2021     5641.044400           Asia   \n",
       "5498               Zambia  2021     3236.788981         Africa   \n",
       "5531             Zimbabwe  2021     2115.144555         Africa   \n",
       "\n",
       "      Life_Expectancy  \n",
       "0              61.982  \n",
       "21             76.463  \n",
       "54             76.377  \n",
       "87             61.643  \n",
       "120            78.497  \n",
       "...               ...  \n",
       "5403           70.862  \n",
       "5436           70.449  \n",
       "5469           73.473  \n",
       "5498           61.223  \n",
       "5531           59.253  \n",
       "\n",
       "[175 rows x 5 columns]"
      ]
     },
     "execution_count": 55,
     "metadata": {},
     "output_type": "execute_result"
    }
   ],
   "source": [
    "gdp_le_2021"
   ]
  },
  {
   "cell_type": "code",
   "execution_count": 58,
   "id": "7cd02007",
   "metadata": {},
   "outputs": [
    {
     "data": {
      "text/plain": [
       "Country            31\n",
       "Year               31\n",
       "GDP_Per_Capita     31\n",
       "Continent          31\n",
       "Life_Expectancy    31\n",
       "dtype: int64"
      ]
     },
     "execution_count": 58,
     "metadata": {},
     "output_type": "execute_result"
    }
   ],
   "source": [
    "gdp_le_2021[gdp_le_2021[\"Life_Expectancy\"] >= 80].count()"
   ]
  },
  {
   "cell_type": "markdown",
   "id": "4d00f52f",
   "metadata": {},
   "source": [
    "### There were 31 countries that had a life expectancy greater than or equal to 80"
   ]
  },
  {
   "cell_type": "markdown",
   "id": "ad91f54e",
   "metadata": {},
   "source": [
    "## #26"
   ]
  },
  {
   "cell_type": "code",
   "execution_count": 59,
   "id": "c6990442",
   "metadata": {},
   "outputs": [
    {
     "data": {
      "text/html": [
       "<div>\n",
       "<style scoped>\n",
       "    .dataframe tbody tr th:only-of-type {\n",
       "        vertical-align: middle;\n",
       "    }\n",
       "\n",
       "    .dataframe tbody tr th {\n",
       "        vertical-align: top;\n",
       "    }\n",
       "\n",
       "    .dataframe thead th {\n",
       "        text-align: right;\n",
       "    }\n",
       "</style>\n",
       "<table border=\"1\" class=\"dataframe\">\n",
       "  <thead>\n",
       "    <tr style=\"text-align: right;\">\n",
       "      <th></th>\n",
       "      <th>Country</th>\n",
       "      <th>Year</th>\n",
       "      <th>GDP_Per_Capita</th>\n",
       "      <th>Continent</th>\n",
       "      <th>Life_Expectancy</th>\n",
       "    </tr>\n",
       "  </thead>\n",
       "  <tbody>\n",
       "    <tr>\n",
       "      <th>2871</th>\n",
       "      <td>Luxembourg</td>\n",
       "      <td>2021</td>\n",
       "      <td>115683.493708</td>\n",
       "      <td>Europe</td>\n",
       "      <td>82.597561</td>\n",
       "    </tr>\n",
       "    <tr>\n",
       "      <th>4423</th>\n",
       "      <td>Singapore</td>\n",
       "      <td>2021</td>\n",
       "      <td>107741.118436</td>\n",
       "      <td>Asia</td>\n",
       "      <td>83.092683</td>\n",
       "    </tr>\n",
       "    <tr>\n",
       "      <th>2299</th>\n",
       "      <td>Ireland</td>\n",
       "      <td>2021</td>\n",
       "      <td>102785.490239</td>\n",
       "      <td>Europe</td>\n",
       "      <td>82.353659</td>\n",
       "    </tr>\n",
       "    <tr>\n",
       "      <th>4116</th>\n",
       "      <td>Qatar</td>\n",
       "      <td>2021</td>\n",
       "      <td>92862.571798</td>\n",
       "      <td>Asia</td>\n",
       "      <td>79.272000</td>\n",
       "    </tr>\n",
       "    <tr>\n",
       "      <th>581</th>\n",
       "      <td>Bermuda</td>\n",
       "      <td>2021</td>\n",
       "      <td>78570.489515</td>\n",
       "      <td>North America</td>\n",
       "      <td>79.280000</td>\n",
       "    </tr>\n",
       "    <tr>\n",
       "      <th>...</th>\n",
       "      <td>...</td>\n",
       "      <td>...</td>\n",
       "      <td>...</td>\n",
       "      <td>...</td>\n",
       "      <td>...</td>\n",
       "    </tr>\n",
       "    <tr>\n",
       "      <th>3382</th>\n",
       "      <td>Mozambique</td>\n",
       "      <td>2021</td>\n",
       "      <td>1226.766964</td>\n",
       "      <td>Africa</td>\n",
       "      <td>59.325000</td>\n",
       "    </tr>\n",
       "    <tr>\n",
       "      <th>3632</th>\n",
       "      <td>Niger</td>\n",
       "      <td>2021</td>\n",
       "      <td>1186.576809</td>\n",
       "      <td>Africa</td>\n",
       "      <td>61.576000</td>\n",
       "    </tr>\n",
       "    <tr>\n",
       "      <th>4548</th>\n",
       "      <td>Somalia</td>\n",
       "      <td>2021</td>\n",
       "      <td>1136.735989</td>\n",
       "      <td>Africa</td>\n",
       "      <td>55.280000</td>\n",
       "    </tr>\n",
       "    <tr>\n",
       "      <th>1018</th>\n",
       "      <td>Central African Republic</td>\n",
       "      <td>2021</td>\n",
       "      <td>837.504686</td>\n",
       "      <td>Africa</td>\n",
       "      <td>53.895000</td>\n",
       "    </tr>\n",
       "    <tr>\n",
       "      <th>840</th>\n",
       "      <td>Burundi</td>\n",
       "      <td>2021</td>\n",
       "      <td>714.066712</td>\n",
       "      <td>Africa</td>\n",
       "      <td>61.663000</td>\n",
       "    </tr>\n",
       "  </tbody>\n",
       "</table>\n",
       "<p>175 rows × 5 columns</p>\n",
       "</div>"
      ],
      "text/plain": [
       "                       Country  Year  GDP_Per_Capita      Continent  \\\n",
       "2871                Luxembourg  2021   115683.493708         Europe   \n",
       "4423                 Singapore  2021   107741.118436           Asia   \n",
       "2299                   Ireland  2021   102785.490239         Europe   \n",
       "4116                     Qatar  2021    92862.571798           Asia   \n",
       "581                    Bermuda  2021    78570.489515  North America   \n",
       "...                        ...   ...             ...            ...   \n",
       "3382                Mozambique  2021     1226.766964         Africa   \n",
       "3632                     Niger  2021     1186.576809         Africa   \n",
       "4548                   Somalia  2021     1136.735989         Africa   \n",
       "1018  Central African Republic  2021      837.504686         Africa   \n",
       "840                    Burundi  2021      714.066712         Africa   \n",
       "\n",
       "      Life_Expectancy  \n",
       "2871        82.597561  \n",
       "4423        83.092683  \n",
       "2299        82.353659  \n",
       "4116        79.272000  \n",
       "581         79.280000  \n",
       "...               ...  \n",
       "3382        59.325000  \n",
       "3632        61.576000  \n",
       "4548        55.280000  \n",
       "1018        53.895000  \n",
       "840         61.663000  \n",
       "\n",
       "[175 rows x 5 columns]"
      ]
     },
     "execution_count": 59,
     "metadata": {},
     "output_type": "execute_result"
    }
   ],
   "source": [
    "gdp_le_2021.sort_values(\"GDP_Per_Capita\",ascending = False)"
   ]
  },
  {
   "cell_type": "markdown",
   "id": "a3ca0d46",
   "metadata": {},
   "source": [
    "###    The three countries with the largest GDP_Per_Capita are Luxembourg, Singapore, and Ireland. "
   ]
  },
  {
   "cell_type": "code",
   "execution_count": 62,
   "id": "3b4b6c7c",
   "metadata": {},
   "outputs": [],
   "source": [
    "gdp_le_facet = gdp_le[gdp_le[\"Country\"].isin([\"Luxembourg\" , \"Singapore\" , \"Ireland\"])]"
   ]
  },
  {
   "cell_type": "code",
   "execution_count": 74,
   "id": "e82d9e1c",
   "metadata": {},
   "outputs": [],
   "source": [
    "gdp_le_facet = gdp_le_facet.drop(\"GDP_Per_Capita\", axis = 1)\n",
    "gdp_le_facet = gdp_le_facet.drop(\"Continent\", axis = 1)\n"
   ]
  },
  {
   "cell_type": "code",
   "execution_count": 82,
   "id": "202adcd8",
   "metadata": {},
   "outputs": [
    {
     "data": {
      "image/png": "[encoded data removed]",
      "text/plain": [
       "<Figure size 300x900 with 3 Axes>"
      ]
     },
     "metadata": {},
     "output_type": "display_data"
    }
   ],
   "source": [
    "graph = sns.FacetGrid(gdp_le_facet, row = \"Country\")"
   ]
  },
  {
   "cell_type": "code",
   "execution_count": 83,
   "id": "978efe00",
   "metadata": {},
   "outputs": [
    {
     "name": "stderr",
     "output_type": "stream",
     "text": [
      "C:\\Users\\teska\\anaconda3\\Lib\\site-packages\\seaborn\\axisgrid.py:118: UserWarning: The figure layout has changed to tight\n",
      "  self._figure.tight_layout(*args, **kwargs)\n"
     ]
    },
    {
     "data": {
      "image/png": "[encoded data removed]",
      "text/plain": [
       "<Figure size 300x900 with 3 Axes>"
      ]
     },
     "metadata": {},
     "output_type": "display_data"
    }
   ],
   "source": [
    "graph.map(plt.scatter, 'Year','Life_Expectancy')\n",
    "plt.show()"
   ]
  },
  {
   "cell_type": "markdown",
   "id": "93dd8205",
   "metadata": {},
   "source": [
    "## #27"
   ]
  },
  {
   "cell_type": "code",
   "execution_count": 88,
   "id": "8fbae03b",
   "metadata": {
    "scrolled": true
   },
   "outputs": [
    {
     "data": {
      "text/plain": [
       "<matplotlib.collections.PathCollection at 0x200655c4290>"
      ]
     },
     "execution_count": 88,
     "metadata": {},
     "output_type": "execute_result"
    },
    {
     "data": {
      "image/png": "[encoded data removed]",
      "text/plain": [
       "<Figure size 640x480 with 1 Axes>"
      ]
     },
     "metadata": {},
     "output_type": "display_data"
    }
   ],
   "source": [
    "plt.scatter(gdp_le_2021[\"Life_Expectancy\"],gdp_le_2021[\"GDP_Per_Capita\"])"
   ]
  },
  {
   "cell_type": "markdown",
   "id": "c214b2b9",
   "metadata": {},
   "source": [
    "### It seems that the countries that had a longer life expectancy seemed to have a larger GDP_Per_Capita"
   ]
  },
  {
   "cell_type": "markdown",
   "id": "ef091db2",
   "metadata": {},
   "source": [
    "## #28"
   ]
  },
  {
   "cell_type": "code",
   "execution_count": 89,
   "id": "6ce5cee4",
   "metadata": {},
   "outputs": [
    {
     "data": {
      "text/plain": [
       "array([[nan, nan],\n",
       "       [nan,  1.]])"
      ]
     },
     "execution_count": 89,
     "metadata": {},
     "output_type": "execute_result"
    }
   ],
   "source": [
    "np.corrcoef(x = gdp_le_2021[\"Life_Expectancy\"], y = gdp_le_2021[\"GDP_Per_Capita\"])"
   ]
  },
  {
   "cell_type": "code",
   "execution_count": 91,
   "id": "daee18b2",
   "metadata": {},
   "outputs": [
    {
     "data": {
      "text/plain": [
       "0.7450812403297981"
      ]
     },
     "execution_count": 91,
     "metadata": {},
     "output_type": "execute_result"
    }
   ],
   "source": [
    "gdp_le_2021[\"Life_Expectancy\"].corr(gdp_le_2021['GDP_Per_Capita'])"
   ]
  },
  {
   "cell_type": "markdown",
   "id": "74a9a5af",
   "metadata": {},
   "source": [
    "### This number is telling us that there is a pretty positive correlation between GDP and Life Exp. If a country has more GDP per capita compared to others, it will most likely have a longer life expectancy compared to others."
   ]
  },
  {
   "cell_type": "markdown",
   "id": "7a1a8026",
   "metadata": {},
   "source": [
    "## #29"
   ]
  },
  {
   "cell_type": "code",
   "execution_count": 93,
   "id": "709cc162",
   "metadata": {},
   "outputs": [
    {
     "name": "stderr",
     "output_type": "stream",
     "text": [
      "C:\\Users\\teska\\AppData\\Local\\Temp\\ipykernel_36996\\2933400688.py:1: SettingWithCopyWarning: \n",
      "A value is trying to be set on a copy of a slice from a DataFrame.\n",
      "Try using .loc[row_indexer,col_indexer] = value instead\n",
      "\n",
      "See the caveats in the documentation: https://pandas.pydata.org/pandas-docs/stable/user_guide/indexing.html#returning-a-view-versus-a-copy\n",
      "  gdp_le_2021[\"GDP_log\"] = np.log(gdp_le_2021['GDP_Per_Capita'])\n"
     ]
    }
   ],
   "source": [
    "gdp_le_2021[\"GDP_log\"] = np.log(gdp_le_2021['GDP_Per_Capita'])"
   ]
  },
  {
   "cell_type": "code",
   "execution_count": 94,
   "id": "2b246982",
   "metadata": {},
   "outputs": [
    {
     "data": {
      "text/html": [
       "<div>\n",
       "<style scoped>\n",
       "    .dataframe tbody tr th:only-of-type {\n",
       "        vertical-align: middle;\n",
       "    }\n",
       "\n",
       "    .dataframe tbody tr th {\n",
       "        vertical-align: top;\n",
       "    }\n",
       "\n",
       "    .dataframe thead th {\n",
       "        text-align: right;\n",
       "    }\n",
       "</style>\n",
       "<table border=\"1\" class=\"dataframe\">\n",
       "  <thead>\n",
       "    <tr style=\"text-align: right;\">\n",
       "      <th></th>\n",
       "      <th>Country</th>\n",
       "      <th>Year</th>\n",
       "      <th>GDP_Per_Capita</th>\n",
       "      <th>Continent</th>\n",
       "      <th>Life_Expectancy</th>\n",
       "      <th>GDP_log</th>\n",
       "    </tr>\n",
       "  </thead>\n",
       "  <tbody>\n",
       "    <tr>\n",
       "      <th>0</th>\n",
       "      <td>Afghanistan</td>\n",
       "      <td>2021</td>\n",
       "      <td>1517.016266</td>\n",
       "      <td>Asia</td>\n",
       "      <td>61.982</td>\n",
       "      <td>7.324501</td>\n",
       "    </tr>\n",
       "    <tr>\n",
       "      <th>21</th>\n",
       "      <td>Albania</td>\n",
       "      <td>2021</td>\n",
       "      <td>14595.944386</td>\n",
       "      <td>Europe</td>\n",
       "      <td>76.463</td>\n",
       "      <td>9.588499</td>\n",
       "    </tr>\n",
       "    <tr>\n",
       "      <th>54</th>\n",
       "      <td>Algeria</td>\n",
       "      <td>2021</td>\n",
       "      <td>11029.138782</td>\n",
       "      <td>Africa</td>\n",
       "      <td>76.377</td>\n",
       "      <td>9.308296</td>\n",
       "    </tr>\n",
       "    <tr>\n",
       "      <th>87</th>\n",
       "      <td>Angola</td>\n",
       "      <td>2021</td>\n",
       "      <td>5911.835657</td>\n",
       "      <td>Africa</td>\n",
       "      <td>61.643</td>\n",
       "      <td>8.684712</td>\n",
       "    </tr>\n",
       "    <tr>\n",
       "      <th>120</th>\n",
       "      <td>Antigua and Barbuda</td>\n",
       "      <td>2021</td>\n",
       "      <td>19899.882425</td>\n",
       "      <td>North America</td>\n",
       "      <td>78.497</td>\n",
       "      <td>9.898469</td>\n",
       "    </tr>\n",
       "    <tr>\n",
       "      <th>...</th>\n",
       "      <td>...</td>\n",
       "      <td>...</td>\n",
       "      <td>...</td>\n",
       "      <td>...</td>\n",
       "      <td>...</td>\n",
       "      <td>...</td>\n",
       "    </tr>\n",
       "    <tr>\n",
       "      <th>5403</th>\n",
       "      <td>Uzbekistan</td>\n",
       "      <td>2021</td>\n",
       "      <td>7800.501501</td>\n",
       "      <td>Asia</td>\n",
       "      <td>70.862</td>\n",
       "      <td>8.961943</td>\n",
       "    </tr>\n",
       "    <tr>\n",
       "      <th>5436</th>\n",
       "      <td>Vanuatu</td>\n",
       "      <td>2021</td>\n",
       "      <td>2800.493866</td>\n",
       "      <td>Oceania</td>\n",
       "      <td>70.449</td>\n",
       "      <td>7.937551</td>\n",
       "    </tr>\n",
       "    <tr>\n",
       "      <th>5469</th>\n",
       "      <td>West Bank and Gaza</td>\n",
       "      <td>2021</td>\n",
       "      <td>5641.044400</td>\n",
       "      <td>Asia</td>\n",
       "      <td>73.473</td>\n",
       "      <td>8.637825</td>\n",
       "    </tr>\n",
       "    <tr>\n",
       "      <th>5498</th>\n",
       "      <td>Zambia</td>\n",
       "      <td>2021</td>\n",
       "      <td>3236.788981</td>\n",
       "      <td>Africa</td>\n",
       "      <td>61.223</td>\n",
       "      <td>8.082337</td>\n",
       "    </tr>\n",
       "    <tr>\n",
       "      <th>5531</th>\n",
       "      <td>Zimbabwe</td>\n",
       "      <td>2021</td>\n",
       "      <td>2115.144555</td>\n",
       "      <td>Africa</td>\n",
       "      <td>59.253</td>\n",
       "      <td>7.656878</td>\n",
       "    </tr>\n",
       "  </tbody>\n",
       "</table>\n",
       "<p>175 rows × 6 columns</p>\n",
       "</div>"
      ],
      "text/plain": [
       "                  Country  Year  GDP_Per_Capita      Continent  \\\n",
       "0             Afghanistan  2021     1517.016266           Asia   \n",
       "21                Albania  2021    14595.944386         Europe   \n",
       "54                Algeria  2021    11029.138782         Africa   \n",
       "87                 Angola  2021     5911.835657         Africa   \n",
       "120   Antigua and Barbuda  2021    19899.882425  North America   \n",
       "...                   ...   ...             ...            ...   \n",
       "5403           Uzbekistan  2021     7800.501501           Asia   \n",
       "5436              Vanuatu  2021     2800.493866        Oceania   \n",
       "5469   West Bank and Gaza  2021     5641.044400           Asia   \n",
       "5498               Zambia  2021     3236.788981         Africa   \n",
       "5531             Zimbabwe  2021     2115.144555         Africa   \n",
       "\n",
       "      Life_Expectancy   GDP_log  \n",
       "0              61.982  7.324501  \n",
       "21             76.463  9.588499  \n",
       "54             76.377  9.308296  \n",
       "87             61.643  8.684712  \n",
       "120            78.497  9.898469  \n",
       "...               ...       ...  \n",
       "5403           70.862  8.961943  \n",
       "5436           70.449  7.937551  \n",
       "5469           73.473  8.637825  \n",
       "5498           61.223  8.082337  \n",
       "5531           59.253  7.656878  \n",
       "\n",
       "[175 rows x 6 columns]"
      ]
     },
     "execution_count": 94,
     "metadata": {},
     "output_type": "execute_result"
    }
   ],
   "source": [
    "gdp_le_2021"
   ]
  },
  {
   "cell_type": "code",
   "execution_count": 95,
   "id": "048d57c4",
   "metadata": {},
   "outputs": [
    {
     "data": {
      "text/plain": [
       "0.8465749797261853"
      ]
     },
     "execution_count": 95,
     "metadata": {},
     "output_type": "execute_result"
    }
   ],
   "source": [
    "gdp_le_2021[\"Life_Expectancy\"].corr(gdp_le_2021['GDP_log'])"
   ]
  },
  {
   "cell_type": "code",
   "execution_count": 97,
   "id": "357a9527",
   "metadata": {},
   "outputs": [
    {
     "data": {
      "text/plain": [
       "<matplotlib.collections.PathCollection at 0x200620eb190>"
      ]
     },
     "execution_count": 97,
     "metadata": {},
     "output_type": "execute_result"
    },
    {
     "data": {
      "image/png": "[encoded data removed]",
      "text/plain": [
       "<Figure size 640x480 with 1 Axes>"
      ]
     },
     "metadata": {},
     "output_type": "display_data"
    }
   ],
   "source": [
    "plt.scatter(gdp_le_2021[\"Life_Expectancy\"],gdp_le_2021[\"GDP_log\"])"
   ]
  },
  {
   "cell_type": "markdown",
   "id": "ca09afc2",
   "metadata": {},
   "source": [
    "### This new correlation coefficient makes much more sense (even though they are similar). It matches weill with the graph as well, it overall correlates more. It is more visible because previously, the GDP numbers were so much larger than the life exp number. "
   ]
  },
  {
   "cell_type": "code",
   "execution_count": null,
   "id": "6398540f",
   "metadata": {},
   "outputs": [],
   "source": []
  }
 ],
 "metadata": {
  "kernelspec": {
   "display_name": "Python 3 (ipykernel)",
   "language": "python",
   "name": "python3"
  },
  "language_info": {
   "codemirror_mode": {
    "name": "ipython",
    "version": 3
   },
   "file_extension": ".py",
   "mimetype": "text/x-python",
   "name": "python",
   "nbconvert_exporter": "python",
   "pygments_lexer": "ipython3",
   "version": "3.11.5"
  }
 },
 "nbformat": 4,
 "nbformat_minor": 5
}
